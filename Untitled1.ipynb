{
 "cells": [
  {
   "cell_type": "code",
   "execution_count": 1,
   "metadata": {},
   "outputs": [],
   "source": [
    "import logging\n",
    "from IsoNet.preprocessing.cubes import prepare_cubes\n",
    "from IsoNet.preprocessing.img_processing import normalize\n",
    "from IsoNet.preprocessing.prepare import prepare_first_iter,get_cubes_list,get_noise_level\n",
    "from IsoNet.util.dict2attr import save_args_json,load_args_from_json\n",
    "import glob\n",
    "import mrcfile\n",
    "import numpy as np\n",
    "import glob\n",
    "import os\n",
    "import sys\n",
    "import shutil\n",
    "from IsoNet.util.metadata import MetaData, Item, Label\n",
    "from IsoNet.util.utils import mkfolder"
   ]
  },
  {
   "cell_type": "code",
   "execution_count": 2,
   "metadata": {},
   "outputs": [],
   "source": [
    "from IsoNet.util.dict2attr import Arg,check_parse,idx2list\n",
    "\n",
    "import logging\n",
    "import os, sys, traceback\n",
    "from IsoNet.util.dict2attr import Arg,check_parse,idx2list\n",
    "\n",
    "from IsoNet.util.metadata import MetaData,Label,Item\n",
    "import os \n",
    "import sys\n",
    "import logging\n",
    "import sys\n",
    "import mrcfile\n",
    "from IsoNet.preprocessing.cubes import create_cube_seeds,crop_cubes,DataCubes\n",
    "from IsoNet.preprocessing.img_processing import normalize\n",
    "from IsoNet.preprocessing.simulate import apply_wedge1 as  apply_wedge\n",
    "from multiprocessing import Pool\n",
    "import numpy as np\n",
    "from functools import partial\n",
    "from IsoNet.util.rotations import rotation_list"
   ]
  },
  {
   "cell_type": "code",
   "execution_count": 3,
   "metadata": {},
   "outputs": [],
   "source": [
    "dic={ 'gpuID': None,\n",
    " 'iterations': None,\n",
    " 'data_dir': None,\n",
    " 'pretrained_model': None,\n",
    " 'log_level': None,\n",
    " 'result_dir': 'results',\n",
    " 'preprocessing_ncpus': 16,\n",
    " 'continue_from': None,\n",
    " 'epochs': 10,\n",
    " 'batch_size': None,\n",
    " 'steps_per_epoch': None,\n",
    " 'noise_level': None,\n",
    " 'noise_start_iter': None,\n",
    " 'noise_mode': None,\n",
    " 'noise_dir': None,\n",
    " 'learning_rate': None,\n",
    " 'drop_out': 0.3,\n",
    " 'convs_per_depth': 3,\n",
    " 'kernel': (3, 3, 3),\n",
    " 'pool': None,\n",
    " 'unet_depth': 3,\n",
    " 'filter_base': None,\n",
    " 'batch_normalization': False,\n",
    " 'normalize_percentile': True,\n",
    "'subtomo_star':'subtomo.star'}"
   ]
  },
  {
   "cell_type": "code",
   "execution_count": 4,
   "metadata": {},
   "outputs": [
    {
     "data": {
      "text/plain": [
       "<IsoNet.util.dict2attr.Arg at 0x7f2e211caa58>"
      ]
     },
     "execution_count": 4,
     "metadata": {},
     "output_type": "execute_result"
    }
   ],
   "source": [
    "args=Arg(dic)\n",
    "args"
   ]
  },
  {
   "cell_type": "code",
   "execution_count": 5,
   "metadata": {},
   "outputs": [],
   "source": [
    "md = MetaData()\n",
    "md.read(args.subtomo_star)\n",
    "# args.crop_size = 18\n",
    "# args.cube_size = 18\n",
    "# args.predict_cropsize = 18\n",
    "# num_noise_volume = 1000\n",
    "# args.residual = False\n",
    "args.crop_size = md._data[0].rlnCropSize\n",
    "args.cube_size = md._data[0].rlnCubeSize\n",
    "args.predict_cropsize = args.crop_size\n",
    "num_noise_volume = 3000\n",
    "args.residual = False\n",
    "args.gpuID = 0\n",
    "if args.data_dir is None:\n",
    "    args.data_dir = args.result_dir + '/data'\n",
    "if args.iterations is None:\n",
    "    args.iterations = 30\n",
    "args.ngpus = 1\n",
    "if args.result_dir is None:\n",
    "    args.result_dir = 'results'\n",
    "if args.batch_size is None:\n",
    "    args.batch_size = max(4, 2 * args.ngpus)\n",
    "args.predict_batch_size = args.batch_size\n",
    "if args.filter_base is None:\n",
    "    if md._data[0].rlnPixelSize >15:\n",
    "        args.filter_base = 32\n",
    "    else:\n",
    "        args.filter_base = 64\n",
    "if args.steps_per_epoch is None:\n",
    "    args.steps_per_epoch = min(int(len(md) * 6/args.batch_size) , 200)\n",
    "if args.learning_rate is None:\n",
    "    args.learning_rate = 0.0004\n",
    "if args.noise_level is None:\n",
    "    args.noise_level = (0.05,0.10,0.15,0.20)\n",
    "if args.noise_start_iter is None:\n",
    "    args.noise_start_iter = (11,16,21,26)\n",
    "if args.noise_mode is None:\n",
    "    args.noise_mode = 'noFilter'\n",
    "if args.noise_dir is None:\n",
    "    args.noise_dir = args.result_dir +'/training_noise'\n",
    "if args.log_level is None:\n",
    "    args.log_level = \"info\"\n",
    "\n",
    "if len(md) <=0:\n",
    "    logging.error(\"Subtomo list is empty!\")\n",
    "    sys.exit(0)\n",
    "args.mrc_list = []"
   ]
  },
  {
   "cell_type": "code",
   "execution_count": 6,
   "metadata": {},
   "outputs": [],
   "source": [
    "for i,it in enumerate(md):\n",
    "    if \"rlnImageName\" in md.getLabels():\n",
    "        args.mrc_list.append(it.rlnImageName)"
   ]
  },
  {
   "cell_type": "code",
   "execution_count": 7,
   "metadata": {},
   "outputs": [],
   "source": [
    "import subprocess\n",
    "sp = subprocess.Popen(['nvidia-smi', '-q'], stdout=subprocess.PIPE, stderr=subprocess.PIPE)\n",
    "out_str = sp.communicate()\n",
    "out_str = out_str[0].decode('utf-8')\n",
    "if 'CUDA Version' not in out_str:\n",
    "    raise RuntimeError('No GPU detected, Please check your CUDA version and installation')"
   ]
  },
  {
   "cell_type": "code",
   "execution_count": 8,
   "metadata": {},
   "outputs": [],
   "source": [
    "import subprocess\n",
    "sp = subprocess.Popen(['nvidia-smi', '-q'], stdout=subprocess.PIPE, stderr=subprocess.PIPE)\n",
    "out_str = sp.communicate()\n",
    "out_str = out_str[0].decode('utf-8')\n",
    "if 'CUDA Version' not in out_str:\n",
    "    raise RuntimeError('No GPU detected, Please check your CUDA version and installation')"
   ]
  },
  {
   "cell_type": "code",
   "execution_count": 9,
   "metadata": {},
   "outputs": [
    {
     "name": "stderr",
     "output_type": "stream",
     "text": [
      "2022-10-05 13:57:28.570984: I tensorflow/stream_executor/platform/default/dso_loader.cc:48] Successfully opened dynamic library libcudart.so.10.1\n"
     ]
    }
   ],
   "source": [
    "from IsoNet.training.predict import predict\n",
    "from IsoNet.training.train import prepare_first_model, train_data"
   ]
  },
  {
   "cell_type": "code",
   "execution_count": 10,
   "metadata": {},
   "outputs": [],
   "source": [
    "settings=args\n"
   ]
  },
  {
   "cell_type": "code",
   "execution_count": 11,
   "metadata": {},
   "outputs": [
    {
     "name": "stdout",
     "output_type": "stream",
     "text": [
      "3000\n",
      "['subtomo/1_000000.mrc', 'subtomo/1_000001.mrc', 'subtomo/1_000002.mrc', 'subtomo/1_000003.mrc', 'subtomo/1_000004.mrc', 'subtomo/1_000005.mrc', 'subtomo/1_000006.mrc', 'subtomo/1_000007.mrc', 'subtomo/1_000008.mrc', 'subtomo/1_000009.mrc', 'subtomo/1_000010.mrc', 'subtomo/1_000011.mrc', 'subtomo/1_000012.mrc', 'subtomo/1_000013.mrc', 'subtomo/1_000014.mrc', 'subtomo/1_000015.mrc', 'subtomo/1_000016.mrc', 'subtomo/1_000017.mrc', 'subtomo/1_000018.mrc', 'subtomo/1_000019.mrc', 'subtomo/1_000020.mrc', 'subtomo/1_000021.mrc', 'subtomo/1_000022.mrc', 'subtomo/1_000023.mrc', 'subtomo/1_000024.mrc', 'subtomo/1_000025.mrc', 'subtomo/1_000026.mrc', 'subtomo/1_000027.mrc', 'subtomo/1_000028.mrc', 'subtomo/1_000029.mrc', 'subtomo/1_000030.mrc', 'subtomo/1_000031.mrc', 'subtomo/1_000032.mrc', 'subtomo/1_000033.mrc', 'subtomo/1_000034.mrc', 'subtomo/1_000035.mrc', 'subtomo/1_000036.mrc', 'subtomo/1_000037.mrc', 'subtomo/1_000038.mrc', 'subtomo/1_000039.mrc', 'subtomo/1_000040.mrc', 'subtomo/1_000041.mrc', 'subtomo/1_000042.mrc', 'subtomo/1_000043.mrc', 'subtomo/1_000044.mrc', 'subtomo/1_000045.mrc', 'subtomo/1_000046.mrc', 'subtomo/1_000047.mrc', 'subtomo/1_000048.mrc', 'subtomo/1_000049.mrc', 'subtomo/1_000050.mrc', 'subtomo/1_000051.mrc', 'subtomo/1_000052.mrc', 'subtomo/1_000053.mrc', 'subtomo/1_000054.mrc', 'subtomo/1_000055.mrc', 'subtomo/1_000056.mrc', 'subtomo/1_000057.mrc', 'subtomo/1_000058.mrc', 'subtomo/1_000059.mrc', 'subtomo/1_000060.mrc', 'subtomo/1_000061.mrc', 'subtomo/1_000062.mrc', 'subtomo/1_000063.mrc', 'subtomo/1_000096.mrc', 'subtomo/1_000065.mrc', 'subtomo/1_000066.mrc', 'subtomo/1_000067.mrc', 'subtomo/1_000068.mrc', 'subtomo/1_000069.mrc', 'subtomo/1_000070.mrc', 'subtomo/1_000071.mrc', 'subtomo/1_000072.mrc', 'subtomo/1_000073.mrc', 'subtomo/1_000074.mrc', 'subtomo/1_000075.mrc', 'subtomo/1_000076.mrc', 'subtomo/1_000077.mrc', 'subtomo/1_000078.mrc', 'subtomo/1_000079.mrc', 'subtomo/1_000080.mrc', 'subtomo/1_000081.mrc', 'subtomo/1_000082.mrc', 'subtomo/1_000083.mrc', 'subtomo/1_000084.mrc', 'subtomo/1_000085.mrc', 'subtomo/1_000086.mrc', 'subtomo/1_000087.mrc', 'subtomo/1_000088.mrc', 'subtomo/1_000089.mrc', 'subtomo/1_000090.mrc', 'subtomo/1_000091.mrc', 'subtomo/1_000092.mrc', 'subtomo/1_000093.mrc', 'subtomo/1_000094.mrc', 'subtomo/1_000095.mrc', 'subtomo/1_000096.mrc', 'subtomo/1_000097.mrc', 'subtomo/1_000098.mrc', 'subtomo/1_000099.mrc', 'subtomo/1_000100.mrc', 'subtomo/1_000101.mrc', 'subtomo/1_000102.mrc', 'subtomo/1_000103.mrc', 'subtomo/1_000104.mrc', 'subtomo/1_000105.mrc', 'subtomo/1_000106.mrc', 'subtomo/1_000107.mrc', 'subtomo/1_000108.mrc', 'subtomo/1_000109.mrc', 'subtomo/1_000110.mrc', 'subtomo/1_000111.mrc', 'subtomo/1_000112.mrc', 'subtomo/1_000113.mrc', 'subtomo/1_000114.mrc', 'subtomo/1_000115.mrc', 'subtomo/1_000116.mrc', 'subtomo/1_000117.mrc', 'subtomo/1_000118.mrc', 'subtomo/1_000119.mrc', 'subtomo/1_000120.mrc', 'subtomo/1_000121.mrc', 'subtomo/1_000122.mrc', 'subtomo/1_000123.mrc', 'subtomo/1_000124.mrc', 'subtomo/1_000125.mrc', 'subtomo/1_000126.mrc', 'subtomo/1_000127.mrc', 'subtomo/1_000128.mrc', 'subtomo/1_000129.mrc', 'subtomo/1_000130.mrc', 'subtomo/1_000131.mrc', 'subtomo/1_000132.mrc', 'subtomo/1_000133.mrc', 'subtomo/1_000134.mrc', 'subtomo/1_000135.mrc', 'subtomo/1_000136.mrc', 'subtomo/1_000137.mrc', 'subtomo/1_000138.mrc', 'subtomo/1_000139.mrc', 'subtomo/1_000140.mrc', 'subtomo/1_000141.mrc', 'subtomo/1_000142.mrc', 'subtomo/1_000143.mrc', 'subtomo/1_000144.mrc', 'subtomo/1_000145.mrc', 'subtomo/1_000146.mrc', 'subtomo/1_000147.mrc', 'subtomo/1_000148.mrc', 'subtomo/1_000149.mrc', 'subtomo/1_000150.mrc', 'subtomo/1_000151.mrc', 'subtomo/1_000152.mrc', 'subtomo/1_000153.mrc', 'subtomo/1_000154.mrc', 'subtomo/1_000155.mrc', 'subtomo/1_000156.mrc', 'subtomo/1_000157.mrc', 'subtomo/1_000158.mrc', 'subtomo/1_000159.mrc', 'subtomo/1_000160.mrc', 'subtomo/1_000161.mrc', 'subtomo/1_000162.mrc', 'subtomo/1_000163.mrc', 'subtomo/1_000164.mrc', 'subtomo/1_000165.mrc', 'subtomo/1_000166.mrc', 'subtomo/1_000167.mrc', 'subtomo/1_000168.mrc', 'subtomo/1_000169.mrc', 'subtomo/1_000170.mrc', 'subtomo/1_000171.mrc', 'subtomo/1_000172.mrc', 'subtomo/1_000173.mrc', 'subtomo/1_000174.mrc', 'subtomo/1_000175.mrc', 'subtomo/1_000176.mrc', 'subtomo/1_000177.mrc', 'subtomo/1_000178.mrc', 'subtomo/1_000179.mrc', 'subtomo/1_000180.mrc', 'subtomo/1_000181.mrc', 'subtomo/1_000182.mrc', 'subtomo/1_000183.mrc', 'subtomo/1_000184.mrc', 'subtomo/1_000185.mrc', 'subtomo/1_000186.mrc', 'subtomo/1_000187.mrc', 'subtomo/1_000188.mrc', 'subtomo/1_000189.mrc', 'subtomo/1_000190.mrc', 'subtomo/1_000191.mrc', 'subtomo/1_000192.mrc', 'subtomo/1_000193.mrc', 'subtomo/1_000194.mrc', 'subtomo/1_000195.mrc', 'subtomo/1_000164.mrc', 'subtomo/1_000197.mrc', 'subtomo/1_000198.mrc', 'subtomo/1_000199.mrc', 'subtomo/1_000200.mrc', 'subtomo/1_000201.mrc', 'subtomo/1_000202.mrc', 'subtomo/1_000203.mrc', 'subtomo/1_000204.mrc', 'subtomo/1_000205.mrc', 'subtomo/1_000206.mrc', 'subtomo/1_000207.mrc', 'subtomo/1_000208.mrc', 'subtomo/1_000209.mrc', 'subtomo/1_000210.mrc', 'subtomo/1_000211.mrc', 'subtomo/1_000212.mrc', 'subtomo/1_000213.mrc', 'subtomo/1_000214.mrc', 'subtomo/1_000215.mrc', 'subtomo/1_000216.mrc', 'subtomo/1_000217.mrc', 'subtomo/1_000218.mrc', 'subtomo/1_000219.mrc', 'subtomo/1_000220.mrc', 'subtomo/1_000221.mrc', 'subtomo/1_000222.mrc', 'subtomo/1_000223.mrc', 'subtomo/1_000224.mrc', 'subtomo/1_000225.mrc', 'subtomo/1_000226.mrc', 'subtomo/1_000227.mrc', 'subtomo/1_000228.mrc', 'subtomo/1_000229.mrc', 'subtomo/1_000230.mrc', 'subtomo/1_000231.mrc', 'subtomo/1_000232.mrc', 'subtomo/1_000233.mrc', 'subtomo/1_000234.mrc', 'subtomo/1_000235.mrc', 'subtomo/1_000236.mrc', 'subtomo/1_000237.mrc', 'subtomo/1_000238.mrc', 'subtomo/1_000239.mrc', 'subtomo/1_000240.mrc', 'subtomo/1_000241.mrc', 'subtomo/1_000242.mrc', 'subtomo/1_000243.mrc', 'subtomo/1_000244.mrc', 'subtomo/1_000245.mrc', 'subtomo/1_000246.mrc', 'subtomo/1_000247.mrc', 'subtomo/1_000248.mrc', 'subtomo/1_000249.mrc', 'subtomo/1_000250.mrc', 'subtomo/1_000251.mrc', 'subtomo/1_000252.mrc', 'subtomo/1_000253.mrc', 'subtomo/1_000254.mrc', 'subtomo/1_000255.mrc', 'subtomo/1_000256.mrc', 'subtomo/1_000257.mrc', 'subtomo/1_000258.mrc', 'subtomo/1_000259.mrc', 'subtomo/1_000260.mrc', 'subtomo/1_000261.mrc', 'subtomo/1_000262.mrc', 'subtomo/1_000263.mrc', 'subtomo/1_000264.mrc', 'subtomo/1_000265.mrc', 'subtomo/1_000266.mrc', 'subtomo/1_000267.mrc', 'subtomo/1_000268.mrc', 'subtomo/1_000269.mrc', 'subtomo/1_000270.mrc', 'subtomo/1_000271.mrc', 'subtomo/1_000272.mrc', 'subtomo/1_000273.mrc', 'subtomo/1_000274.mrc', 'subtomo/1_000275.mrc', 'subtomo/1_000276.mrc', 'subtomo/1_000277.mrc', 'subtomo/1_000278.mrc', 'subtomo/1_000279.mrc', 'subtomo/1_000280.mrc', 'subtomo/1_000281.mrc', 'subtomo/1_000282.mrc', 'subtomo/1_000283.mrc', 'subtomo/1_000284.mrc', 'subtomo/1_000285.mrc', 'subtomo/1_000286.mrc', 'subtomo/1_000287.mrc', 'subtomo/1_000288.mrc', 'subtomo/1_000289.mrc', 'subtomo/1_000290.mrc', 'subtomo/1_000291.mrc', 'subtomo/1_000292.mrc', 'subtomo/1_000293.mrc', 'subtomo/1_000294.mrc', 'subtomo/1_000295.mrc', 'subtomo/1_000264.mrc', 'subtomo/1_000297.mrc', 'subtomo/1_000298.mrc', 'subtomo/1_000299.mrc', 'subtomo/1_000300.mrc', 'subtomo/1_000301.mrc', 'subtomo/1_000302.mrc', 'subtomo/1_000303.mrc', 'subtomo/1_000304.mrc', 'subtomo/1_000305.mrc', 'subtomo/1_000306.mrc', 'subtomo/1_000307.mrc', 'subtomo/1_000308.mrc', 'subtomo/1_000309.mrc', 'subtomo/1_000310.mrc', 'subtomo/1_000311.mrc', 'subtomo/1_000312.mrc', 'subtomo/1_000313.mrc', 'subtomo/1_000314.mrc', 'subtomo/1_000315.mrc', 'subtomo/1_000316.mrc', 'subtomo/1_000317.mrc', 'subtomo/1_000318.mrc', 'subtomo/1_000319.mrc', 'subtomo/1_000320.mrc', 'subtomo/1_000321.mrc', 'subtomo/1_000322.mrc', 'subtomo/1_000323.mrc', 'subtomo/1_000324.mrc', 'subtomo/1_000325.mrc', 'subtomo/1_000326.mrc', 'subtomo/1_000327.mrc', 'subtomo/1_000328.mrc', 'subtomo/1_000329.mrc', 'subtomo/1_000330.mrc', 'subtomo/1_000331.mrc', 'subtomo/1_000332.mrc', 'subtomo/1_000333.mrc', 'subtomo/1_000334.mrc', 'subtomo/1_000335.mrc', 'subtomo/1_000336.mrc', 'subtomo/1_000337.mrc', 'subtomo/1_000338.mrc', 'subtomo/1_000339.mrc', 'subtomo/1_000340.mrc', 'subtomo/1_000341.mrc', 'subtomo/1_000342.mrc', 'subtomo/1_000343.mrc', 'subtomo/1_000344.mrc', 'subtomo/1_000345.mrc', 'subtomo/1_000346.mrc', 'subtomo/1_000347.mrc', 'subtomo/1_000348.mrc', 'subtomo/1_000349.mrc', 'subtomo/1_000350.mrc', 'subtomo/1_000351.mrc', 'subtomo/1_000352.mrc', 'subtomo/1_000353.mrc', 'subtomo/1_000354.mrc', 'subtomo/1_000355.mrc', 'subtomo/1_000356.mrc', 'subtomo/1_000357.mrc', 'subtomo/1_000358.mrc', 'subtomo/1_000359.mrc', 'subtomo/1_000360.mrc', 'subtomo/1_000361.mrc', 'subtomo/1_000362.mrc', 'subtomo/1_000363.mrc', 'subtomo/1_000364.mrc', 'subtomo/1_000365.mrc', 'subtomo/1_000366.mrc', 'subtomo/1_000367.mrc', 'subtomo/1_000368.mrc', 'subtomo/1_000369.mrc', 'subtomo/1_000370.mrc', 'subtomo/1_000371.mrc', 'subtomo/1_000372.mrc', 'subtomo/1_000373.mrc', 'subtomo/1_000374.mrc', 'subtomo/1_000375.mrc', 'subtomo/1_000376.mrc', 'subtomo/1_000377.mrc', 'subtomo/1_000378.mrc', 'subtomo/1_000379.mrc', 'subtomo/1_000380.mrc', 'subtomo/1_000381.mrc', 'subtomo/1_000382.mrc', 'subtomo/1_000383.mrc', 'subtomo/1_000384.mrc', 'subtomo/1_000385.mrc', 'subtomo/1_000386.mrc', 'subtomo/1_000387.mrc', 'subtomo/1_000388.mrc', 'subtomo/1_000389.mrc', 'subtomo/1_000390.mrc', 'subtomo/1_000391.mrc', 'subtomo/1_000392.mrc', 'subtomo/1_000393.mrc', 'subtomo/1_000394.mrc', 'subtomo/1_000395.mrc', 'subtomo/1_000364.mrc', 'subtomo/1_000397.mrc', 'subtomo/1_000398.mrc', 'subtomo/1_000399.mrc', 'subtomo/1_000400.mrc', 'subtomo/1_000401.mrc', 'subtomo/1_000402.mrc', 'subtomo/1_000403.mrc', 'subtomo/1_000404.mrc', 'subtomo/1_000405.mrc', 'subtomo/1_000406.mrc', 'subtomo/1_000407.mrc', 'subtomo/1_000408.mrc', 'subtomo/1_000409.mrc', 'subtomo/1_000410.mrc', 'subtomo/1_000411.mrc', 'subtomo/1_000412.mrc', 'subtomo/1_000413.mrc', 'subtomo/1_000414.mrc', 'subtomo/1_000415.mrc', 'subtomo/1_000416.mrc', 'subtomo/1_000417.mrc', 'subtomo/1_000418.mrc', 'subtomo/1_000419.mrc', 'subtomo/1_000420.mrc', 'subtomo/1_000421.mrc', 'subtomo/1_000422.mrc', 'subtomo/1_000423.mrc', 'subtomo/1_000424.mrc', 'subtomo/1_000425.mrc', 'subtomo/1_000426.mrc', 'subtomo/1_000427.mrc', 'subtomo/1_000428.mrc', 'subtomo/1_000429.mrc', 'subtomo/1_000430.mrc', 'subtomo/1_000431.mrc', 'subtomo/1_000432.mrc', 'subtomo/1_000433.mrc', 'subtomo/1_000434.mrc', 'subtomo/1_000435.mrc', 'subtomo/1_000436.mrc', 'subtomo/1_000437.mrc', 'subtomo/1_000438.mrc', 'subtomo/1_000439.mrc', 'subtomo/1_000440.mrc', 'subtomo/1_000441.mrc', 'subtomo/1_000442.mrc', 'subtomo/1_000443.mrc', 'subtomo/1_000444.mrc', 'subtomo/1_000445.mrc', 'subtomo/1_000446.mrc', 'subtomo/1_000447.mrc', 'subtomo/1_000448.mrc', 'subtomo/1_000449.mrc', 'subtomo/1_000450.mrc', 'subtomo/1_000451.mrc', 'subtomo/1_000452.mrc', 'subtomo/1_000453.mrc', 'subtomo/1_000454.mrc', 'subtomo/1_000455.mrc', 'subtomo/1_000456.mrc', 'subtomo/1_000457.mrc', 'subtomo/1_000458.mrc', 'subtomo/1_000459.mrc', 'subtomo/1_000460.mrc', 'subtomo/1_000461.mrc', 'subtomo/1_000462.mrc', 'subtomo/1_000463.mrc', 'subtomo/1_000464.mrc', 'subtomo/1_000465.mrc', 'subtomo/1_000466.mrc', 'subtomo/1_000467.mrc', 'subtomo/1_000468.mrc', 'subtomo/1_000469.mrc', 'subtomo/1_000470.mrc', 'subtomo/1_000471.mrc', 'subtomo/1_000472.mrc', 'subtomo/1_000473.mrc', 'subtomo/1_000474.mrc', 'subtomo/1_000475.mrc', 'subtomo/1_000476.mrc', 'subtomo/1_000477.mrc', 'subtomo/1_000478.mrc', 'subtomo/1_000479.mrc', 'subtomo/1_000480.mrc', 'subtomo/1_000481.mrc', 'subtomo/1_000482.mrc', 'subtomo/1_000483.mrc', 'subtomo/1_000484.mrc', 'subtomo/1_000485.mrc', 'subtomo/1_000486.mrc', 'subtomo/1_000487.mrc', 'subtomo/1_000488.mrc', 'subtomo/1_000489.mrc', 'subtomo/1_000490.mrc', 'subtomo/1_000491.mrc', 'subtomo/1_000492.mrc', 'subtomo/1_000493.mrc', 'subtomo/1_000494.mrc', 'subtomo/1_000495.mrc', 'subtomo/1_000464.mrc', 'subtomo/1_000497.mrc', 'subtomo/1_000498.mrc', 'subtomo/1_000499.mrc', 'subtomo/1_000500.mrc', 'subtomo/1_000501.mrc', 'subtomo/1_000502.mrc', 'subtomo/1_000503.mrc', 'subtomo/1_000504.mrc', 'subtomo/1_000505.mrc', 'subtomo/1_000506.mrc', 'subtomo/1_000507.mrc', 'subtomo/1_000508.mrc', 'subtomo/1_000509.mrc', 'subtomo/1_000510.mrc', 'subtomo/1_000511.mrc', 'subtomo/1_000512.mrc', 'subtomo/1_000513.mrc', 'subtomo/1_000514.mrc', 'subtomo/1_000515.mrc', 'subtomo/1_000516.mrc', 'subtomo/1_000517.mrc', 'subtomo/1_000518.mrc', 'subtomo/1_000519.mrc', 'subtomo/1_000520.mrc', 'subtomo/1_000521.mrc', 'subtomo/1_000522.mrc', 'subtomo/1_000523.mrc', 'subtomo/1_000524.mrc', 'subtomo/1_000525.mrc', 'subtomo/1_000526.mrc', 'subtomo/1_000527.mrc', 'subtomo/1_000528.mrc', 'subtomo/1_000529.mrc', 'subtomo/1_000530.mrc', 'subtomo/1_000531.mrc', 'subtomo/1_000532.mrc', 'subtomo/1_000533.mrc', 'subtomo/1_000534.mrc', 'subtomo/1_000535.mrc', 'subtomo/1_000536.mrc', 'subtomo/1_000537.mrc', 'subtomo/1_000538.mrc', 'subtomo/1_000539.mrc', 'subtomo/1_000540.mrc', 'subtomo/1_000541.mrc', 'subtomo/1_000542.mrc', 'subtomo/1_000543.mrc', 'subtomo/1_000544.mrc', 'subtomo/1_000545.mrc', 'subtomo/1_000546.mrc', 'subtomo/1_000547.mrc', 'subtomo/1_000548.mrc', 'subtomo/1_000549.mrc', 'subtomo/1_000550.mrc', 'subtomo/1_000551.mrc', 'subtomo/1_000552.mrc', 'subtomo/1_000553.mrc', 'subtomo/1_000554.mrc', 'subtomo/1_000555.mrc', 'subtomo/1_000556.mrc', 'subtomo/1_000557.mrc', 'subtomo/1_000558.mrc', 'subtomo/1_000559.mrc', 'subtomo/1_000560.mrc', 'subtomo/1_000561.mrc', 'subtomo/1_000562.mrc', 'subtomo/1_000563.mrc', 'subtomo/1_000564.mrc', 'subtomo/1_000565.mrc', 'subtomo/1_000566.mrc', 'subtomo/1_000567.mrc', 'subtomo/1_000568.mrc', 'subtomo/1_000569.mrc', 'subtomo/1_000570.mrc', 'subtomo/1_000571.mrc', 'subtomo/1_000572.mrc', 'subtomo/1_000573.mrc', 'subtomo/1_000574.mrc', 'subtomo/1_000575.mrc', 'subtomo/1_000576.mrc', 'subtomo/1_000577.mrc', 'subtomo/1_000578.mrc', 'subtomo/1_000579.mrc', 'subtomo/1_000580.mrc', 'subtomo/1_000581.mrc', 'subtomo/1_000582.mrc', 'subtomo/1_000583.mrc', 'subtomo/1_000584.mrc', 'subtomo/1_000585.mrc', 'subtomo/1_000586.mrc', 'subtomo/1_000587.mrc', 'subtomo/1_000588.mrc', 'subtomo/1_000589.mrc', 'subtomo/1_000590.mrc', 'subtomo/1_000591.mrc', 'subtomo/1_000592.mrc', 'subtomo/1_000593.mrc', 'subtomo/1_000594.mrc', 'subtomo/1_000595.mrc', 'subtomo/1_000564.mrc', 'subtomo/1_000597.mrc', 'subtomo/1_000598.mrc', 'subtomo/1_000599.mrc', 'subtomo/1_000600.mrc', 'subtomo/1_000601.mrc', 'subtomo/1_000602.mrc', 'subtomo/1_000603.mrc', 'subtomo/1_000604.mrc', 'subtomo/1_000605.mrc', 'subtomo/1_000606.mrc', 'subtomo/1_000607.mrc', 'subtomo/1_000608.mrc', 'subtomo/1_000609.mrc', 'subtomo/1_000610.mrc', 'subtomo/1_000611.mrc', 'subtomo/1_000612.mrc', 'subtomo/1_000613.mrc', 'subtomo/1_000614.mrc', 'subtomo/1_000615.mrc', 'subtomo/1_000616.mrc', 'subtomo/1_000617.mrc', 'subtomo/1_000618.mrc', 'subtomo/1_000619.mrc', 'subtomo/1_000620.mrc', 'subtomo/1_000621.mrc', 'subtomo/1_000622.mrc', 'subtomo/1_000623.mrc', 'subtomo/1_000624.mrc', 'subtomo/1_000625.mrc', 'subtomo/1_000626.mrc', 'subtomo/1_000627.mrc', 'subtomo/1_000628.mrc', 'subtomo/1_000629.mrc', 'subtomo/1_000630.mrc', 'subtomo/1_000631.mrc', 'subtomo/1_000632.mrc', 'subtomo/1_000633.mrc', 'subtomo/1_000634.mrc', 'subtomo/1_000635.mrc', 'subtomo/1_000636.mrc', 'subtomo/1_000637.mrc', 'subtomo/1_000638.mrc', 'subtomo/1_000639.mrc', 'subtomo/1_000640.mrc', 'subtomo/1_000641.mrc', 'subtomo/1_000642.mrc', 'subtomo/1_000643.mrc', 'subtomo/1_000644.mrc', 'subtomo/1_000645.mrc', 'subtomo/1_000646.mrc', 'subtomo/1_000647.mrc', 'subtomo/1_000648.mrc', 'subtomo/1_000649.mrc', 'subtomo/1_000650.mrc', 'subtomo/1_000651.mrc', 'subtomo/1_000652.mrc', 'subtomo/1_000653.mrc', 'subtomo/1_000654.mrc', 'subtomo/1_000655.mrc', 'subtomo/1_000656.mrc', 'subtomo/1_000657.mrc', 'subtomo/1_000658.mrc', 'subtomo/1_000659.mrc', 'subtomo/1_000660.mrc', 'subtomo/1_000661.mrc', 'subtomo/1_000662.mrc', 'subtomo/1_000663.mrc', 'subtomo/1_000664.mrc', 'subtomo/1_000665.mrc', 'subtomo/1_000666.mrc', 'subtomo/1_000667.mrc', 'subtomo/1_000668.mrc', 'subtomo/1_000669.mrc', 'subtomo/1_000670.mrc', 'subtomo/1_000671.mrc', 'subtomo/1_000672.mrc', 'subtomo/1_000673.mrc', 'subtomo/1_000674.mrc', 'subtomo/1_000675.mrc', 'subtomo/1_000676.mrc', 'subtomo/1_000677.mrc', 'subtomo/1_000678.mrc', 'subtomo/1_000679.mrc', 'subtomo/1_000680.mrc', 'subtomo/1_000681.mrc', 'subtomo/1_000682.mrc', 'subtomo/1_000683.mrc', 'subtomo/1_000684.mrc', 'subtomo/1_000685.mrc', 'subtomo/1_000686.mrc', 'subtomo/1_000687.mrc', 'subtomo/1_000688.mrc', 'subtomo/1_000689.mrc', 'subtomo/1_000690.mrc', 'subtomo/1_000691.mrc', 'subtomo/1_000692.mrc', 'subtomo/1_000693.mrc', 'subtomo/1_000694.mrc', 'subtomo/1_000695.mrc', 'subtomo/1_000664.mrc', 'subtomo/1_000697.mrc', 'subtomo/1_000698.mrc', 'subtomo/1_000699.mrc', 'subtomo/1_000700.mrc', 'subtomo/1_000701.mrc', 'subtomo/1_000702.mrc', 'subtomo/1_000703.mrc', 'subtomo/1_000704.mrc', 'subtomo/1_000705.mrc', 'subtomo/1_000706.mrc', 'subtomo/1_000707.mrc', 'subtomo/1_000708.mrc', 'subtomo/1_000709.mrc', 'subtomo/1_000710.mrc', 'subtomo/1_000711.mrc', 'subtomo/1_000712.mrc', 'subtomo/1_000713.mrc', 'subtomo/1_000714.mrc', 'subtomo/1_000715.mrc', 'subtomo/1_000716.mrc', 'subtomo/1_000717.mrc', 'subtomo/1_000718.mrc', 'subtomo/1_000719.mrc', 'subtomo/1_000720.mrc', 'subtomo/1_000721.mrc', 'subtomo/1_000722.mrc', 'subtomo/1_000723.mrc', 'subtomo/1_000724.mrc', 'subtomo/1_000725.mrc', 'subtomo/1_000726.mrc', 'subtomo/1_000727.mrc', 'subtomo/1_000728.mrc', 'subtomo/1_000729.mrc', 'subtomo/1_000730.mrc', 'subtomo/1_000731.mrc', 'subtomo/1_000732.mrc', 'subtomo/1_000733.mrc', 'subtomo/1_000734.mrc', 'subtomo/1_000735.mrc', 'subtomo/1_000736.mrc', 'subtomo/1_000737.mrc', 'subtomo/1_000738.mrc', 'subtomo/1_000739.mrc', 'subtomo/1_000740.mrc', 'subtomo/1_000741.mrc', 'subtomo/1_000742.mrc', 'subtomo/1_000743.mrc', 'subtomo/1_000744.mrc', 'subtomo/1_000745.mrc', 'subtomo/1_000746.mrc', 'subtomo/1_000747.mrc', 'subtomo/1_000748.mrc', 'subtomo/1_000749.mrc', 'subtomo/1_000750.mrc', 'subtomo/1_000751.mrc', 'subtomo/1_000752.mrc', 'subtomo/1_000753.mrc', 'subtomo/1_000754.mrc', 'subtomo/1_000755.mrc', 'subtomo/1_000756.mrc', 'subtomo/1_000757.mrc', 'subtomo/1_000758.mrc', 'subtomo/1_000759.mrc', 'subtomo/1_000760.mrc', 'subtomo/1_000761.mrc', 'subtomo/1_000762.mrc', 'subtomo/1_000763.mrc', 'subtomo/1_000764.mrc', 'subtomo/1_000765.mrc', 'subtomo/1_000766.mrc', 'subtomo/1_000767.mrc', 'subtomo/1_000768.mrc', 'subtomo/1_000769.mrc', 'subtomo/1_000770.mrc', 'subtomo/1_000771.mrc', 'subtomo/1_000772.mrc', 'subtomo/1_000773.mrc', 'subtomo/1_000774.mrc', 'subtomo/1_000775.mrc', 'subtomo/1_000776.mrc', 'subtomo/1_000777.mrc', 'subtomo/1_000778.mrc', 'subtomo/1_000779.mrc', 'subtomo/1_000780.mrc', 'subtomo/1_000781.mrc', 'subtomo/1_000782.mrc', 'subtomo/1_000783.mrc', 'subtomo/1_000784.mrc', 'subtomo/1_000785.mrc', 'subtomo/1_000786.mrc', 'subtomo/1_000787.mrc', 'subtomo/1_000788.mrc', 'subtomo/1_000789.mrc', 'subtomo/1_000790.mrc', 'subtomo/1_000791.mrc', 'subtomo/1_000792.mrc', 'subtomo/1_000793.mrc', 'subtomo/1_000794.mrc', 'subtomo/1_000795.mrc', 'subtomo/1_000764.mrc', 'subtomo/1_000797.mrc', 'subtomo/1_000798.mrc', 'subtomo/1_000799.mrc', 'subtomo/1_000800.mrc', 'subtomo/1_000801.mrc', 'subtomo/1_000802.mrc', 'subtomo/1_000803.mrc', 'subtomo/1_000804.mrc', 'subtomo/1_000805.mrc', 'subtomo/1_000806.mrc', 'subtomo/1_000807.mrc', 'subtomo/1_000808.mrc', 'subtomo/1_000809.mrc', 'subtomo/1_000810.mrc', 'subtomo/1_000811.mrc', 'subtomo/1_000812.mrc', 'subtomo/1_000813.mrc', 'subtomo/1_000814.mrc', 'subtomo/1_000815.mrc', 'subtomo/1_000816.mrc', 'subtomo/1_000817.mrc', 'subtomo/1_000818.mrc', 'subtomo/1_000819.mrc', 'subtomo/1_000820.mrc', 'subtomo/1_000821.mrc', 'subtomo/1_000822.mrc', 'subtomo/1_000823.mrc', 'subtomo/1_000824.mrc', 'subtomo/1_000825.mrc', 'subtomo/1_000826.mrc', 'subtomo/1_000827.mrc', 'subtomo/1_000828.mrc', 'subtomo/1_000829.mrc', 'subtomo/1_000830.mrc', 'subtomo/1_000831.mrc', 'subtomo/1_000832.mrc', 'subtomo/1_000833.mrc', 'subtomo/1_000834.mrc', 'subtomo/1_000835.mrc', 'subtomo/1_000836.mrc', 'subtomo/1_000837.mrc', 'subtomo/1_000838.mrc', 'subtomo/1_000839.mrc', 'subtomo/1_000840.mrc', 'subtomo/1_000841.mrc', 'subtomo/1_000842.mrc', 'subtomo/1_000843.mrc', 'subtomo/1_000844.mrc', 'subtomo/1_000845.mrc', 'subtomo/1_000846.mrc', 'subtomo/1_000847.mrc', 'subtomo/1_000848.mrc', 'subtomo/1_000849.mrc', 'subtomo/1_000850.mrc', 'subtomo/1_000851.mrc', 'subtomo/1_000852.mrc', 'subtomo/1_000853.mrc', 'subtomo/1_000854.mrc', 'subtomo/1_000855.mrc', 'subtomo/1_000856.mrc', 'subtomo/1_000857.mrc', 'subtomo/1_000858.mrc', 'subtomo/1_000859.mrc', 'subtomo/1_000860.mrc', 'subtomo/1_000861.mrc', 'subtomo/1_000862.mrc', 'subtomo/1_000863.mrc', 'subtomo/1_000864.mrc', 'subtomo/1_000865.mrc', 'subtomo/1_000866.mrc', 'subtomo/1_000867.mrc', 'subtomo/1_000868.mrc', 'subtomo/1_000869.mrc', 'subtomo/1_000870.mrc', 'subtomo/1_000871.mrc', 'subtomo/1_000872.mrc', 'subtomo/1_000873.mrc', 'subtomo/1_000874.mrc', 'subtomo/1_000875.mrc', 'subtomo/1_000876.mrc', 'subtomo/1_000877.mrc', 'subtomo/1_000878.mrc', 'subtomo/1_000879.mrc', 'subtomo/1_000880.mrc', 'subtomo/1_000881.mrc', 'subtomo/1_000882.mrc', 'subtomo/1_000883.mrc', 'subtomo/1_000884.mrc', 'subtomo/1_000885.mrc', 'subtomo/1_000886.mrc', 'subtomo/1_000887.mrc', 'subtomo/1_000888.mrc', 'subtomo/1_000889.mrc', 'subtomo/1_000890.mrc', 'subtomo/1_000891.mrc', 'subtomo/1_000892.mrc', 'subtomo/1_000893.mrc', 'subtomo/1_000894.mrc', 'subtomo/1_000895.mrc', 'subtomo/1_000864.mrc', 'subtomo/1_000897.mrc', 'subtomo/1_000898.mrc', 'subtomo/1_000899.mrc', 'subtomo/1_000900.mrc', 'subtomo/1_000901.mrc', 'subtomo/1_000902.mrc', 'subtomo/1_000903.mrc', 'subtomo/1_000904.mrc', 'subtomo/1_000905.mrc', 'subtomo/1_000906.mrc', 'subtomo/1_000907.mrc', 'subtomo/1_000908.mrc', 'subtomo/1_000909.mrc', 'subtomo/1_000910.mrc', 'subtomo/1_000911.mrc', 'subtomo/1_000912.mrc', 'subtomo/1_000913.mrc', 'subtomo/1_000914.mrc', 'subtomo/1_000915.mrc', 'subtomo/1_000916.mrc', 'subtomo/1_000917.mrc', 'subtomo/1_000918.mrc', 'subtomo/1_000919.mrc', 'subtomo/1_000920.mrc', 'subtomo/1_000921.mrc', 'subtomo/1_000922.mrc', 'subtomo/1_000923.mrc', 'subtomo/1_000924.mrc', 'subtomo/1_000925.mrc', 'subtomo/1_000926.mrc', 'subtomo/1_000927.mrc', 'subtomo/1_000928.mrc', 'subtomo/1_000929.mrc', 'subtomo/1_000930.mrc', 'subtomo/1_000931.mrc', 'subtomo/1_000932.mrc', 'subtomo/1_000933.mrc', 'subtomo/1_000934.mrc', 'subtomo/1_000935.mrc', 'subtomo/1_000936.mrc', 'subtomo/1_000937.mrc', 'subtomo/1_000938.mrc', 'subtomo/1_000939.mrc', 'subtomo/1_000940.mrc', 'subtomo/1_000941.mrc', 'subtomo/1_000942.mrc', 'subtomo/1_000943.mrc', 'subtomo/1_000944.mrc', 'subtomo/1_000945.mrc', 'subtomo/1_000946.mrc', 'subtomo/1_000947.mrc', 'subtomo/1_000948.mrc', 'subtomo/1_000949.mrc', 'subtomo/1_000950.mrc', 'subtomo/1_000951.mrc', 'subtomo/1_000952.mrc', 'subtomo/1_000953.mrc', 'subtomo/1_000954.mrc', 'subtomo/1_000955.mrc', 'subtomo/1_000956.mrc', 'subtomo/1_000957.mrc', 'subtomo/1_000958.mrc', 'subtomo/1_000959.mrc', 'subtomo/1_000640.mrc', 'subtomo/1_000641.mrc', 'subtomo/1_000642.mrc', 'subtomo/1_000643.mrc', 'subtomo/1_000644.mrc', 'subtomo/1_000645.mrc', 'subtomo/1_000646.mrc', 'subtomo/1_000647.mrc', 'subtomo/1_000648.mrc', 'subtomo/1_000649.mrc', 'subtomo/1_000970.mrc', 'subtomo/1_000971.mrc', 'subtomo/1_000972.mrc', 'subtomo/1_000973.mrc', 'subtomo/1_000974.mrc', 'subtomo/1_000975.mrc', 'subtomo/1_000976.mrc', 'subtomo/1_000977.mrc', 'subtomo/1_000978.mrc', 'subtomo/1_000979.mrc', 'subtomo/1_000980.mrc', 'subtomo/1_000981.mrc', 'subtomo/1_000982.mrc', 'subtomo/1_000983.mrc', 'subtomo/1_000984.mrc', 'subtomo/1_000985.mrc', 'subtomo/1_000986.mrc', 'subtomo/1_000987.mrc', 'subtomo/1_000988.mrc', 'subtomo/1_000989.mrc', 'subtomo/1_000990.mrc', 'subtomo/1_000991.mrc', 'subtomo/1_000992.mrc', 'subtomo/1_000993.mrc', 'subtomo/1_000994.mrc', 'subtomo/1_000995.mrc', 'subtomo/1_000964.mrc', 'subtomo/1_000997.mrc', 'subtomo/1_000998.mrc', 'subtomo/1_000999.mrc', 'subtomo/1_001000.mrc', 'subtomo/1_001001.mrc', 'subtomo/1_001002.mrc', 'subtomo/1_001003.mrc', 'subtomo/1_001004.mrc', 'subtomo/1_001005.mrc', 'subtomo/1_001006.mrc', 'subtomo/1_001007.mrc', 'subtomo/1_001008.mrc', 'subtomo/1_001009.mrc', 'subtomo/1_001010.mrc', 'subtomo/1_001011.mrc', 'subtomo/1_001012.mrc', 'subtomo/1_001013.mrc', 'subtomo/1_001014.mrc', 'subtomo/1_001015.mrc', 'subtomo/1_001016.mrc', 'subtomo/1_001017.mrc', 'subtomo/1_001018.mrc', 'subtomo/1_001019.mrc', 'subtomo/1_001020.mrc', 'subtomo/1_001021.mrc', 'subtomo/1_001022.mrc', 'subtomo/1_001023.mrc', 'subtomo/1_001024.mrc', 'subtomo/1_001025.mrc', 'subtomo/1_001026.mrc', 'subtomo/1_001027.mrc', 'subtomo/1_001028.mrc', 'subtomo/1_001029.mrc', 'subtomo/1_001030.mrc', 'subtomo/1_001031.mrc', 'subtomo/1_001032.mrc', 'subtomo/1_001033.mrc', 'subtomo/1_001034.mrc', 'subtomo/1_001035.mrc', 'subtomo/1_001036.mrc', 'subtomo/1_001037.mrc', 'subtomo/1_001038.mrc', 'subtomo/1_001039.mrc', 'subtomo/1_001040.mrc', 'subtomo/1_001041.mrc', 'subtomo/1_001042.mrc', 'subtomo/1_001043.mrc', 'subtomo/1_001044.mrc', 'subtomo/1_001045.mrc', 'subtomo/1_001046.mrc', 'subtomo/1_001047.mrc', 'subtomo/1_001048.mrc', 'subtomo/1_001049.mrc', 'subtomo/1_001050.mrc', 'subtomo/1_001051.mrc', 'subtomo/1_001052.mrc', 'subtomo/1_001053.mrc', 'subtomo/1_001054.mrc', 'subtomo/1_001055.mrc', 'subtomo/1_001056.mrc', 'subtomo/1_001057.mrc', 'subtomo/1_001058.mrc', 'subtomo/1_001059.mrc', 'subtomo/1_001060.mrc', 'subtomo/1_001061.mrc', 'subtomo/1_001062.mrc', 'subtomo/1_001063.mrc', 'subtomo/1_001064.mrc', 'subtomo/1_001065.mrc', 'subtomo/1_001066.mrc', 'subtomo/1_001067.mrc', 'subtomo/1_001068.mrc', 'subtomo/1_001069.mrc', 'subtomo/1_001070.mrc', 'subtomo/1_001071.mrc', 'subtomo/1_001072.mrc', 'subtomo/1_001073.mrc', 'subtomo/1_001074.mrc', 'subtomo/1_001075.mrc', 'subtomo/1_001076.mrc', 'subtomo/1_001077.mrc', 'subtomo/1_001078.mrc', 'subtomo/1_001079.mrc', 'subtomo/1_001080.mrc', 'subtomo/1_001081.mrc', 'subtomo/1_001082.mrc', 'subtomo/1_001083.mrc', 'subtomo/1_001084.mrc', 'subtomo/1_001085.mrc', 'subtomo/1_001086.mrc', 'subtomo/1_001087.mrc', 'subtomo/1_001088.mrc', 'subtomo/1_001089.mrc', 'subtomo/1_001090.mrc', 'subtomo/1_001091.mrc', 'subtomo/1_001092.mrc', 'subtomo/1_001093.mrc', 'subtomo/1_001094.mrc', 'subtomo/1_001095.mrc', 'subtomo/1_001064.mrc', 'subtomo/1_001097.mrc', 'subtomo/1_001098.mrc', 'subtomo/1_001099.mrc', 'subtomo/1_001100.mrc', 'subtomo/1_001101.mrc', 'subtomo/1_001102.mrc', 'subtomo/1_001103.mrc', 'subtomo/1_001104.mrc', 'subtomo/1_001105.mrc', 'subtomo/1_001106.mrc', 'subtomo/1_001107.mrc', 'subtomo/1_001108.mrc', 'subtomo/1_001109.mrc', 'subtomo/1_001110.mrc', 'subtomo/1_001111.mrc', 'subtomo/1_001112.mrc', 'subtomo/1_001113.mrc', 'subtomo/1_001114.mrc', 'subtomo/1_001115.mrc', 'subtomo/1_001116.mrc', 'subtomo/1_001117.mrc', 'subtomo/1_001118.mrc', 'subtomo/1_001119.mrc', 'subtomo/1_001120.mrc', 'subtomo/1_001121.mrc', 'subtomo/1_001122.mrc', 'subtomo/1_001123.mrc', 'subtomo/1_001124.mrc', 'subtomo/1_001125.mrc', 'subtomo/1_001126.mrc', 'subtomo/1_001127.mrc', 'subtomo/1_001128.mrc', 'subtomo/1_001129.mrc', 'subtomo/1_001130.mrc', 'subtomo/1_001131.mrc', 'subtomo/1_001132.mrc', 'subtomo/1_001133.mrc', 'subtomo/1_001134.mrc', 'subtomo/1_001135.mrc', 'subtomo/1_001136.mrc', 'subtomo/1_001137.mrc', 'subtomo/1_001138.mrc', 'subtomo/1_001139.mrc', 'subtomo/1_001140.mrc', 'subtomo/1_001141.mrc', 'subtomo/1_001142.mrc', 'subtomo/1_001143.mrc', 'subtomo/1_001144.mrc', 'subtomo/1_001145.mrc', 'subtomo/1_001146.mrc', 'subtomo/1_001147.mrc', 'subtomo/1_001148.mrc', 'subtomo/1_001149.mrc', 'subtomo/1_001150.mrc', 'subtomo/1_001151.mrc', 'subtomo/1_001152.mrc', 'subtomo/1_001153.mrc', 'subtomo/1_001154.mrc', 'subtomo/1_001155.mrc', 'subtomo/1_001156.mrc', 'subtomo/1_001157.mrc', 'subtomo/1_001158.mrc', 'subtomo/1_001159.mrc', 'subtomo/1_001160.mrc', 'subtomo/1_001161.mrc', 'subtomo/1_001162.mrc', 'subtomo/1_001163.mrc', 'subtomo/1_001164.mrc', 'subtomo/1_001165.mrc', 'subtomo/1_001166.mrc', 'subtomo/1_001167.mrc', 'subtomo/1_001168.mrc', 'subtomo/1_001169.mrc', 'subtomo/1_001170.mrc', 'subtomo/1_001171.mrc', 'subtomo/1_001172.mrc', 'subtomo/1_001173.mrc', 'subtomo/1_001174.mrc', 'subtomo/1_001175.mrc', 'subtomo/1_001176.mrc', 'subtomo/1_001177.mrc', 'subtomo/1_001178.mrc', 'subtomo/1_001179.mrc', 'subtomo/1_001180.mrc', 'subtomo/1_001181.mrc', 'subtomo/1_001182.mrc', 'subtomo/1_001183.mrc', 'subtomo/1_001184.mrc', 'subtomo/1_001185.mrc', 'subtomo/1_001186.mrc', 'subtomo/1_001187.mrc', 'subtomo/1_001188.mrc', 'subtomo/1_001189.mrc', 'subtomo/1_001190.mrc', 'subtomo/1_001191.mrc', 'subtomo/1_001192.mrc', 'subtomo/1_001193.mrc', 'subtomo/1_001194.mrc', 'subtomo/1_001195.mrc', 'subtomo/1_001164.mrc', 'subtomo/1_001197.mrc', 'subtomo/1_001198.mrc', 'subtomo/1_001199.mrc', 'subtomo/1_001200.mrc', 'subtomo/1_001201.mrc', 'subtomo/1_001202.mrc', 'subtomo/1_001203.mrc', 'subtomo/1_001204.mrc', 'subtomo/1_001205.mrc', 'subtomo/1_001206.mrc', 'subtomo/1_001207.mrc', 'subtomo/1_001208.mrc', 'subtomo/1_001209.mrc', 'subtomo/1_001210.mrc', 'subtomo/1_001211.mrc', 'subtomo/1_001212.mrc', 'subtomo/1_001213.mrc', 'subtomo/1_001214.mrc', 'subtomo/1_001215.mrc', 'subtomo/1_001216.mrc', 'subtomo/1_001217.mrc', 'subtomo/1_001218.mrc', 'subtomo/1_001219.mrc', 'subtomo/1_001220.mrc', 'subtomo/1_001221.mrc', 'subtomo/1_001222.mrc', 'subtomo/1_001223.mrc', 'subtomo/1_001224.mrc', 'subtomo/1_001225.mrc', 'subtomo/1_001226.mrc', 'subtomo/1_001227.mrc', 'subtomo/1_001228.mrc', 'subtomo/1_001229.mrc', 'subtomo/1_001230.mrc', 'subtomo/1_001231.mrc', 'subtomo/1_001232.mrc', 'subtomo/1_001233.mrc', 'subtomo/1_001234.mrc', 'subtomo/1_001235.mrc', 'subtomo/1_001236.mrc', 'subtomo/1_001237.mrc', 'subtomo/1_001238.mrc', 'subtomo/1_001239.mrc', 'subtomo/1_001240.mrc', 'subtomo/1_001241.mrc', 'subtomo/1_001242.mrc', 'subtomo/1_001243.mrc', 'subtomo/1_001244.mrc', 'subtomo/1_001245.mrc', 'subtomo/1_001246.mrc', 'subtomo/1_001247.mrc', 'subtomo/1_001248.mrc', 'subtomo/1_001249.mrc', 'subtomo/1_001250.mrc', 'subtomo/1_001251.mrc', 'subtomo/1_001252.mrc', 'subtomo/1_001253.mrc', 'subtomo/1_001254.mrc', 'subtomo/1_001255.mrc', 'subtomo/1_001256.mrc', 'subtomo/1_001257.mrc', 'subtomo/1_001258.mrc', 'subtomo/1_001259.mrc', 'subtomo/1_001260.mrc', 'subtomo/1_001261.mrc', 'subtomo/1_001262.mrc', 'subtomo/1_001263.mrc', 'subtomo/1_001264.mrc', 'subtomo/1_001265.mrc', 'subtomo/1_001266.mrc', 'subtomo/1_001267.mrc', 'subtomo/1_001268.mrc', 'subtomo/1_001269.mrc', 'subtomo/1_001270.mrc', 'subtomo/1_001271.mrc', 'subtomo/1_001272.mrc', 'subtomo/1_001273.mrc', 'subtomo/1_001274.mrc', 'subtomo/1_001275.mrc', 'subtomo/1_001276.mrc', 'subtomo/1_001277.mrc', 'subtomo/1_001278.mrc', 'subtomo/1_001279.mrc', 'subtomo/1_001280.mrc', 'subtomo/1_001281.mrc', 'subtomo/1_001282.mrc', 'subtomo/1_001283.mrc', 'subtomo/1_001284.mrc', 'subtomo/1_001285.mrc', 'subtomo/1_001286.mrc', 'subtomo/1_001287.mrc', 'subtomo/1_001288.mrc', 'subtomo/1_001289.mrc', 'subtomo/1_001290.mrc', 'subtomo/1_001291.mrc', 'subtomo/1_001292.mrc', 'subtomo/1_001293.mrc', 'subtomo/1_001294.mrc', 'subtomo/1_001295.mrc', 'subtomo/1_001264.mrc', 'subtomo/1_001297.mrc', 'subtomo/1_001298.mrc', 'subtomo/1_001299.mrc', 'subtomo/1_001300.mrc', 'subtomo/1_001301.mrc', 'subtomo/1_001302.mrc', 'subtomo/1_001303.mrc', 'subtomo/1_001304.mrc', 'subtomo/1_001305.mrc', 'subtomo/1_001306.mrc', 'subtomo/1_001307.mrc', 'subtomo/1_001308.mrc', 'subtomo/1_001309.mrc', 'subtomo/1_001310.mrc', 'subtomo/1_001311.mrc', 'subtomo/1_001312.mrc', 'subtomo/1_001313.mrc', 'subtomo/1_001314.mrc', 'subtomo/1_001315.mrc', 'subtomo/1_001316.mrc', 'subtomo/1_001317.mrc', 'subtomo/1_001318.mrc', 'subtomo/1_001319.mrc', 'subtomo/1_001320.mrc', 'subtomo/1_001321.mrc', 'subtomo/1_001322.mrc', 'subtomo/1_001323.mrc', 'subtomo/1_001324.mrc', 'subtomo/1_001325.mrc', 'subtomo/1_001326.mrc', 'subtomo/1_001327.mrc', 'subtomo/1_001328.mrc', 'subtomo/1_001329.mrc', 'subtomo/1_001330.mrc', 'subtomo/1_001331.mrc', 'subtomo/1_001332.mrc', 'subtomo/1_001333.mrc', 'subtomo/1_001334.mrc', 'subtomo/1_001335.mrc', 'subtomo/1_001336.mrc', 'subtomo/1_001337.mrc', 'subtomo/1_001338.mrc', 'subtomo/1_001339.mrc', 'subtomo/1_001340.mrc', 'subtomo/1_001341.mrc', 'subtomo/1_001342.mrc', 'subtomo/1_001343.mrc', 'subtomo/1_001344.mrc', 'subtomo/1_001345.mrc', 'subtomo/1_001346.mrc', 'subtomo/1_001347.mrc', 'subtomo/1_001348.mrc', 'subtomo/1_001349.mrc', 'subtomo/1_001350.mrc', 'subtomo/1_001351.mrc', 'subtomo/1_001352.mrc', 'subtomo/1_001353.mrc', 'subtomo/1_001354.mrc', 'subtomo/1_001355.mrc', 'subtomo/1_001356.mrc', 'subtomo/1_001357.mrc', 'subtomo/1_001358.mrc', 'subtomo/1_001359.mrc', 'subtomo/1_001360.mrc', 'subtomo/1_001361.mrc', 'subtomo/1_001362.mrc', 'subtomo/1_001363.mrc', 'subtomo/1_001364.mrc', 'subtomo/1_001365.mrc', 'subtomo/1_001366.mrc', 'subtomo/1_001367.mrc', 'subtomo/1_001368.mrc', 'subtomo/1_001369.mrc', 'subtomo/1_001370.mrc', 'subtomo/1_001371.mrc', 'subtomo/1_001372.mrc', 'subtomo/1_001373.mrc', 'subtomo/1_001374.mrc', 'subtomo/1_001375.mrc', 'subtomo/1_001376.mrc', 'subtomo/1_001377.mrc', 'subtomo/1_001378.mrc', 'subtomo/1_001379.mrc', 'subtomo/1_001380.mrc', 'subtomo/1_001381.mrc', 'subtomo/1_001382.mrc', 'subtomo/1_001383.mrc', 'subtomo/1_001384.mrc', 'subtomo/1_001385.mrc', 'subtomo/1_001386.mrc', 'subtomo/1_001387.mrc', 'subtomo/1_001388.mrc', 'subtomo/1_001389.mrc', 'subtomo/1_001390.mrc', 'subtomo/1_001391.mrc', 'subtomo/1_001392.mrc', 'subtomo/1_001393.mrc', 'subtomo/1_001394.mrc', 'subtomo/1_001395.mrc', 'subtomo/1_001364.mrc', 'subtomo/1_001397.mrc', 'subtomo/1_001398.mrc', 'subtomo/1_001399.mrc', 'subtomo/1_001400.mrc', 'subtomo/1_001401.mrc', 'subtomo/1_001402.mrc', 'subtomo/1_001403.mrc', 'subtomo/1_001404.mrc', 'subtomo/1_001405.mrc', 'subtomo/1_001406.mrc', 'subtomo/1_001407.mrc', 'subtomo/1_001408.mrc', 'subtomo/1_001409.mrc', 'subtomo/1_001410.mrc', 'subtomo/1_001411.mrc', 'subtomo/1_001412.mrc', 'subtomo/1_001413.mrc', 'subtomo/1_001414.mrc', 'subtomo/1_001415.mrc', 'subtomo/1_001416.mrc', 'subtomo/1_001417.mrc', 'subtomo/1_001418.mrc', 'subtomo/1_001419.mrc', 'subtomo/1_001420.mrc', 'subtomo/1_001421.mrc', 'subtomo/1_001422.mrc', 'subtomo/1_001423.mrc', 'subtomo/1_001424.mrc', 'subtomo/1_001425.mrc', 'subtomo/1_001426.mrc', 'subtomo/1_001427.mrc', 'subtomo/1_001428.mrc', 'subtomo/1_001429.mrc', 'subtomo/1_001430.mrc', 'subtomo/1_001431.mrc', 'subtomo/1_001432.mrc', 'subtomo/1_001433.mrc', 'subtomo/1_001434.mrc', 'subtomo/1_001435.mrc', 'subtomo/1_001436.mrc', 'subtomo/1_001437.mrc', 'subtomo/1_001438.mrc', 'subtomo/1_001439.mrc', 'subtomo/1_001440.mrc', 'subtomo/1_001441.mrc', 'subtomo/1_001442.mrc', 'subtomo/1_001443.mrc', 'subtomo/1_001444.mrc', 'subtomo/1_001445.mrc', 'subtomo/1_001446.mrc', 'subtomo/1_001447.mrc', 'subtomo/1_001448.mrc', 'subtomo/1_001449.mrc', 'subtomo/1_001450.mrc', 'subtomo/1_001451.mrc', 'subtomo/1_001452.mrc', 'subtomo/1_001453.mrc', 'subtomo/1_001454.mrc', 'subtomo/1_001455.mrc', 'subtomo/1_001456.mrc', 'subtomo/1_001457.mrc', 'subtomo/1_001458.mrc', 'subtomo/1_001459.mrc', 'subtomo/1_001460.mrc', 'subtomo/1_001461.mrc', 'subtomo/1_001462.mrc', 'subtomo/1_001463.mrc', 'subtomo/1_001464.mrc', 'subtomo/1_001465.mrc', 'subtomo/1_001466.mrc', 'subtomo/1_001467.mrc', 'subtomo/1_001468.mrc', 'subtomo/1_001469.mrc', 'subtomo/1_001470.mrc', 'subtomo/1_001471.mrc', 'subtomo/1_001472.mrc', 'subtomo/1_001473.mrc', 'subtomo/1_001474.mrc', 'subtomo/1_001475.mrc', 'subtomo/1_001476.mrc', 'subtomo/1_001477.mrc', 'subtomo/1_001478.mrc', 'subtomo/1_001479.mrc', 'subtomo/1_001480.mrc', 'subtomo/1_001481.mrc', 'subtomo/1_001482.mrc', 'subtomo/1_001483.mrc', 'subtomo/1_001484.mrc', 'subtomo/1_001485.mrc', 'subtomo/1_001486.mrc', 'subtomo/1_001487.mrc', 'subtomo/1_001488.mrc', 'subtomo/1_001489.mrc', 'subtomo/1_001490.mrc', 'subtomo/1_001491.mrc', 'subtomo/1_001492.mrc', 'subtomo/1_001493.mrc', 'subtomo/1_001494.mrc', 'subtomo/1_001495.mrc', 'subtomo/1_001464.mrc', 'subtomo/1_001497.mrc', 'subtomo/1_001498.mrc', 'subtomo/1_001499.mrc', 'subtomo/1_001500.mrc', 'subtomo/1_001501.mrc', 'subtomo/1_001502.mrc', 'subtomo/1_001503.mrc', 'subtomo/1_001504.mrc', 'subtomo/1_001505.mrc', 'subtomo/1_001506.mrc', 'subtomo/1_001507.mrc', 'subtomo/1_001508.mrc', 'subtomo/1_001509.mrc', 'subtomo/1_001510.mrc', 'subtomo/1_001511.mrc', 'subtomo/1_001512.mrc', 'subtomo/1_001513.mrc', 'subtomo/1_001514.mrc', 'subtomo/1_001515.mrc', 'subtomo/1_001516.mrc', 'subtomo/1_001517.mrc', 'subtomo/1_001518.mrc', 'subtomo/1_001519.mrc', 'subtomo/1_001520.mrc', 'subtomo/1_001521.mrc', 'subtomo/1_001522.mrc', 'subtomo/1_001523.mrc', 'subtomo/1_001524.mrc', 'subtomo/1_001525.mrc', 'subtomo/1_001526.mrc', 'subtomo/1_001527.mrc', 'subtomo/1_001528.mrc', 'subtomo/1_001529.mrc', 'subtomo/1_001530.mrc', 'subtomo/1_001531.mrc', 'subtomo/1_001532.mrc', 'subtomo/1_001533.mrc', 'subtomo/1_001534.mrc', 'subtomo/1_001535.mrc', 'subtomo/1_001536.mrc', 'subtomo/1_001537.mrc', 'subtomo/1_001538.mrc', 'subtomo/1_001539.mrc', 'subtomo/1_001540.mrc', 'subtomo/1_001541.mrc', 'subtomo/1_001542.mrc', 'subtomo/1_001543.mrc', 'subtomo/1_001544.mrc', 'subtomo/1_001545.mrc', 'subtomo/1_001546.mrc', 'subtomo/1_001547.mrc', 'subtomo/1_001548.mrc', 'subtomo/1_001549.mrc', 'subtomo/1_001550.mrc', 'subtomo/1_001551.mrc', 'subtomo/1_001552.mrc', 'subtomo/1_001553.mrc', 'subtomo/1_001554.mrc', 'subtomo/1_001555.mrc', 'subtomo/1_001556.mrc', 'subtomo/1_001557.mrc', 'subtomo/1_001558.mrc', 'subtomo/1_001559.mrc', 'subtomo/1_001560.mrc', 'subtomo/1_001561.mrc', 'subtomo/1_001562.mrc', 'subtomo/1_001563.mrc', 'subtomo/1_001564.mrc', 'subtomo/1_001565.mrc', 'subtomo/1_001566.mrc', 'subtomo/1_001567.mrc', 'subtomo/1_001568.mrc', 'subtomo/1_001569.mrc', 'subtomo/1_001570.mrc', 'subtomo/1_001571.mrc', 'subtomo/1_001572.mrc', 'subtomo/1_001573.mrc', 'subtomo/1_001574.mrc', 'subtomo/1_001575.mrc', 'subtomo/1_001576.mrc', 'subtomo/1_001577.mrc', 'subtomo/1_001578.mrc', 'subtomo/1_001579.mrc', 'subtomo/1_001580.mrc', 'subtomo/1_001581.mrc', 'subtomo/1_001582.mrc', 'subtomo/1_001583.mrc', 'subtomo/1_001584.mrc', 'subtomo/1_001585.mrc', 'subtomo/1_001586.mrc', 'subtomo/1_001587.mrc', 'subtomo/1_001588.mrc', 'subtomo/1_001589.mrc', 'subtomo/1_001590.mrc', 'subtomo/1_001591.mrc', 'subtomo/1_001592.mrc', 'subtomo/1_001593.mrc', 'subtomo/1_001594.mrc', 'subtomo/1_001595.mrc', 'subtomo/1_001564.mrc', 'subtomo/1_001597.mrc', 'subtomo/1_001598.mrc', 'subtomo/1_001599.mrc', 'subtomo/1_001600.mrc', 'subtomo/1_001601.mrc', 'subtomo/1_001602.mrc', 'subtomo/1_001603.mrc', 'subtomo/1_001604.mrc', 'subtomo/1_001605.mrc', 'subtomo/1_001606.mrc', 'subtomo/1_001607.mrc', 'subtomo/1_001608.mrc', 'subtomo/1_001609.mrc', 'subtomo/1_001610.mrc', 'subtomo/1_001611.mrc', 'subtomo/1_001612.mrc', 'subtomo/1_001613.mrc', 'subtomo/1_001614.mrc', 'subtomo/1_001615.mrc', 'subtomo/1_001616.mrc', 'subtomo/1_001617.mrc', 'subtomo/1_001618.mrc', 'subtomo/1_001619.mrc', 'subtomo/1_001620.mrc', 'subtomo/1_001621.mrc', 'subtomo/1_001622.mrc', 'subtomo/1_001623.mrc', 'subtomo/1_001624.mrc', 'subtomo/1_001625.mrc', 'subtomo/1_001626.mrc', 'subtomo/1_001627.mrc', 'subtomo/1_001628.mrc', 'subtomo/1_001629.mrc', 'subtomo/1_001630.mrc', 'subtomo/1_001631.mrc', 'subtomo/1_001632.mrc', 'subtomo/1_001633.mrc', 'subtomo/1_001634.mrc', 'subtomo/1_001635.mrc', 'subtomo/1_001636.mrc', 'subtomo/1_001637.mrc', 'subtomo/1_001638.mrc', 'subtomo/1_001639.mrc', 'subtomo/1_001640.mrc', 'subtomo/1_001641.mrc', 'subtomo/1_001642.mrc', 'subtomo/1_001643.mrc', 'subtomo/1_001644.mrc', 'subtomo/1_001645.mrc', 'subtomo/1_001646.mrc', 'subtomo/1_001647.mrc', 'subtomo/1_001648.mrc', 'subtomo/1_001649.mrc', 'subtomo/1_001650.mrc', 'subtomo/1_001651.mrc', 'subtomo/1_001652.mrc', 'subtomo/1_001653.mrc', 'subtomo/1_001654.mrc', 'subtomo/1_001655.mrc', 'subtomo/1_001656.mrc', 'subtomo/1_001657.mrc', 'subtomo/1_001658.mrc', 'subtomo/1_001659.mrc', 'subtomo/1_001660.mrc', 'subtomo/1_001661.mrc', 'subtomo/1_001662.mrc', 'subtomo/1_001663.mrc', 'subtomo/1_001664.mrc', 'subtomo/1_001665.mrc', 'subtomo/1_001666.mrc', 'subtomo/1_001667.mrc', 'subtomo/1_001668.mrc', 'subtomo/1_001669.mrc', 'subtomo/1_001670.mrc', 'subtomo/1_001671.mrc', 'subtomo/1_001672.mrc', 'subtomo/1_001673.mrc', 'subtomo/1_001674.mrc', 'subtomo/1_001675.mrc', 'subtomo/1_001676.mrc', 'subtomo/1_001677.mrc', 'subtomo/1_001678.mrc', 'subtomo/1_001679.mrc', 'subtomo/1_001680.mrc', 'subtomo/1_001681.mrc', 'subtomo/1_001682.mrc', 'subtomo/1_001683.mrc', 'subtomo/1_001684.mrc', 'subtomo/1_001685.mrc', 'subtomo/1_001686.mrc', 'subtomo/1_001687.mrc', 'subtomo/1_001688.mrc', 'subtomo/1_001689.mrc', 'subtomo/1_001690.mrc', 'subtomo/1_001691.mrc', 'subtomo/1_001692.mrc', 'subtomo/1_001693.mrc', 'subtomo/1_001694.mrc', 'subtomo/1_001695.mrc', 'subtomo/1_001664.mrc', 'subtomo/1_001697.mrc', 'subtomo/1_001698.mrc', 'subtomo/1_001699.mrc', 'subtomo/1_001700.mrc', 'subtomo/1_001701.mrc', 'subtomo/1_001702.mrc', 'subtomo/1_001703.mrc', 'subtomo/1_001704.mrc', 'subtomo/1_001705.mrc', 'subtomo/1_001706.mrc', 'subtomo/1_001707.mrc', 'subtomo/1_001708.mrc', 'subtomo/1_001709.mrc', 'subtomo/1_001710.mrc', 'subtomo/1_001711.mrc', 'subtomo/1_001712.mrc', 'subtomo/1_001713.mrc', 'subtomo/1_001714.mrc', 'subtomo/1_001715.mrc', 'subtomo/1_001716.mrc', 'subtomo/1_001717.mrc', 'subtomo/1_001718.mrc', 'subtomo/1_001719.mrc', 'subtomo/1_001720.mrc', 'subtomo/1_001721.mrc', 'subtomo/1_001722.mrc', 'subtomo/1_001723.mrc', 'subtomo/1_001724.mrc', 'subtomo/1_001725.mrc', 'subtomo/1_001726.mrc', 'subtomo/1_001727.mrc', 'subtomo/1_001728.mrc', 'subtomo/1_001729.mrc', 'subtomo/1_001730.mrc', 'subtomo/1_001731.mrc', 'subtomo/1_001732.mrc', 'subtomo/1_001733.mrc', 'subtomo/1_001734.mrc', 'subtomo/1_001735.mrc', 'subtomo/1_001736.mrc', 'subtomo/1_001737.mrc', 'subtomo/1_001738.mrc', 'subtomo/1_001739.mrc', 'subtomo/1_001740.mrc', 'subtomo/1_001741.mrc', 'subtomo/1_001742.mrc', 'subtomo/1_001743.mrc', 'subtomo/1_001744.mrc', 'subtomo/1_001745.mrc', 'subtomo/1_001746.mrc', 'subtomo/1_001747.mrc', 'subtomo/1_001748.mrc', 'subtomo/1_001749.mrc', 'subtomo/1_001750.mrc', 'subtomo/1_001751.mrc', 'subtomo/1_001752.mrc', 'subtomo/1_001753.mrc', 'subtomo/1_001754.mrc', 'subtomo/1_001755.mrc', 'subtomo/1_001756.mrc', 'subtomo/1_001757.mrc', 'subtomo/1_001758.mrc', 'subtomo/1_001759.mrc', 'subtomo/1_001760.mrc', 'subtomo/1_001761.mrc', 'subtomo/1_001762.mrc', 'subtomo/1_001763.mrc', 'subtomo/1_001764.mrc', 'subtomo/1_001765.mrc', 'subtomo/1_001766.mrc', 'subtomo/1_001767.mrc', 'subtomo/1_001768.mrc', 'subtomo/1_001769.mrc', 'subtomo/1_001770.mrc', 'subtomo/1_001771.mrc', 'subtomo/1_001772.mrc', 'subtomo/1_001773.mrc', 'subtomo/1_001774.mrc', 'subtomo/1_001775.mrc', 'subtomo/1_001776.mrc', 'subtomo/1_001777.mrc', 'subtomo/1_001778.mrc', 'subtomo/1_001779.mrc', 'subtomo/1_001780.mrc', 'subtomo/1_001781.mrc', 'subtomo/1_001782.mrc', 'subtomo/1_001783.mrc', 'subtomo/1_001784.mrc', 'subtomo/1_001785.mrc', 'subtomo/1_001786.mrc', 'subtomo/1_001787.mrc', 'subtomo/1_001788.mrc', 'subtomo/1_001789.mrc', 'subtomo/1_001790.mrc', 'subtomo/1_001791.mrc', 'subtomo/1_001792.mrc', 'subtomo/1_001793.mrc', 'subtomo/1_001794.mrc', 'subtomo/1_001795.mrc', 'subtomo/1_001764.mrc', 'subtomo/1_001797.mrc', 'subtomo/1_001798.mrc', 'subtomo/1_001799.mrc', 'subtomo/1_001800.mrc', 'subtomo/1_001801.mrc', 'subtomo/1_001802.mrc', 'subtomo/1_001803.mrc', 'subtomo/1_001804.mrc', 'subtomo/1_001805.mrc', 'subtomo/1_001806.mrc', 'subtomo/1_001807.mrc', 'subtomo/1_001808.mrc', 'subtomo/1_001809.mrc', 'subtomo/1_001810.mrc', 'subtomo/1_001811.mrc', 'subtomo/1_001812.mrc', 'subtomo/1_001813.mrc', 'subtomo/1_001814.mrc', 'subtomo/1_001815.mrc', 'subtomo/1_001816.mrc', 'subtomo/1_001817.mrc', 'subtomo/1_001818.mrc', 'subtomo/1_001819.mrc', 'subtomo/1_001820.mrc', 'subtomo/1_001821.mrc', 'subtomo/1_001822.mrc', 'subtomo/1_001823.mrc', 'subtomo/1_001824.mrc', 'subtomo/1_001825.mrc', 'subtomo/1_001826.mrc', 'subtomo/1_001827.mrc', 'subtomo/1_001828.mrc', 'subtomo/1_001829.mrc', 'subtomo/1_001830.mrc', 'subtomo/1_001831.mrc', 'subtomo/1_001832.mrc', 'subtomo/1_001833.mrc', 'subtomo/1_001834.mrc', 'subtomo/1_001835.mrc', 'subtomo/1_001836.mrc', 'subtomo/1_001837.mrc', 'subtomo/1_001838.mrc', 'subtomo/1_001839.mrc', 'subtomo/1_001840.mrc', 'subtomo/1_001841.mrc', 'subtomo/1_001842.mrc', 'subtomo/1_001843.mrc', 'subtomo/1_001844.mrc', 'subtomo/1_001845.mrc', 'subtomo/1_001846.mrc', 'subtomo/1_001847.mrc', 'subtomo/1_001848.mrc', 'subtomo/1_001849.mrc', 'subtomo/1_001850.mrc', 'subtomo/1_001851.mrc', 'subtomo/1_001852.mrc', 'subtomo/1_001853.mrc', 'subtomo/1_001854.mrc', 'subtomo/1_001855.mrc', 'subtomo/1_001856.mrc', 'subtomo/1_001857.mrc', 'subtomo/1_001858.mrc', 'subtomo/1_001859.mrc', 'subtomo/1_001860.mrc', 'subtomo/1_001861.mrc', 'subtomo/1_001862.mrc', 'subtomo/1_001863.mrc', 'subtomo/1_001864.mrc', 'subtomo/1_001865.mrc', 'subtomo/1_001866.mrc', 'subtomo/1_001867.mrc', 'subtomo/1_001868.mrc', 'subtomo/1_001869.mrc', 'subtomo/1_001870.mrc', 'subtomo/1_001871.mrc', 'subtomo/1_001872.mrc', 'subtomo/1_001873.mrc', 'subtomo/1_001874.mrc', 'subtomo/1_001875.mrc', 'subtomo/1_001876.mrc', 'subtomo/1_001877.mrc', 'subtomo/1_001878.mrc', 'subtomo/1_001879.mrc', 'subtomo/1_001880.mrc', 'subtomo/1_001881.mrc', 'subtomo/1_001882.mrc', 'subtomo/1_001883.mrc', 'subtomo/1_001884.mrc', 'subtomo/1_001885.mrc', 'subtomo/1_001886.mrc', 'subtomo/1_001887.mrc', 'subtomo/1_001888.mrc', 'subtomo/1_001889.mrc', 'subtomo/1_001890.mrc', 'subtomo/1_001891.mrc', 'subtomo/1_001892.mrc', 'subtomo/1_001893.mrc', 'subtomo/1_001894.mrc', 'subtomo/1_001895.mrc', 'subtomo/1_001864.mrc', 'subtomo/1_001897.mrc', 'subtomo/1_001898.mrc', 'subtomo/1_001899.mrc', 'subtomo/1_001900.mrc', 'subtomo/1_001901.mrc', 'subtomo/1_001902.mrc', 'subtomo/1_001903.mrc', 'subtomo/1_001904.mrc', 'subtomo/1_001905.mrc', 'subtomo/1_001906.mrc', 'subtomo/1_001907.mrc', 'subtomo/1_001908.mrc', 'subtomo/1_001909.mrc', 'subtomo/1_001910.mrc', 'subtomo/1_001911.mrc', 'subtomo/1_001912.mrc', 'subtomo/1_001913.mrc', 'subtomo/1_001914.mrc', 'subtomo/1_001915.mrc', 'subtomo/1_001916.mrc', 'subtomo/1_001917.mrc', 'subtomo/1_001918.mrc', 'subtomo/1_001919.mrc', 'subtomo/1_001920.mrc', 'subtomo/1_001921.mrc', 'subtomo/1_001922.mrc', 'subtomo/1_001923.mrc', 'subtomo/1_001924.mrc', 'subtomo/1_001925.mrc', 'subtomo/1_001926.mrc', 'subtomo/1_001927.mrc', 'subtomo/1_001928.mrc', 'subtomo/1_001929.mrc', 'subtomo/1_001930.mrc', 'subtomo/1_001931.mrc', 'subtomo/1_001932.mrc', 'subtomo/1_001933.mrc', 'subtomo/1_001934.mrc', 'subtomo/1_001935.mrc', 'subtomo/1_001936.mrc', 'subtomo/1_001937.mrc', 'subtomo/1_001938.mrc', 'subtomo/1_001939.mrc', 'subtomo/1_001940.mrc', 'subtomo/1_001941.mrc', 'subtomo/1_001942.mrc', 'subtomo/1_001943.mrc', 'subtomo/1_001944.mrc', 'subtomo/1_001945.mrc', 'subtomo/1_001946.mrc', 'subtomo/1_001947.mrc', 'subtomo/1_001948.mrc', 'subtomo/1_001949.mrc', 'subtomo/1_001950.mrc', 'subtomo/1_001951.mrc', 'subtomo/1_001952.mrc', 'subtomo/1_001953.mrc', 'subtomo/1_001954.mrc', 'subtomo/1_001955.mrc', 'subtomo/1_001956.mrc', 'subtomo/1_001957.mrc', 'subtomo/1_001958.mrc', 'subtomo/1_001959.mrc', 'subtomo/1_001640.mrc', 'subtomo/1_001641.mrc', 'subtomo/1_001642.mrc', 'subtomo/1_001643.mrc', 'subtomo/1_001644.mrc', 'subtomo/1_001645.mrc', 'subtomo/1_001646.mrc', 'subtomo/1_001647.mrc', 'subtomo/1_001648.mrc', 'subtomo/1_001649.mrc', 'subtomo/1_001970.mrc', 'subtomo/1_001971.mrc', 'subtomo/1_001972.mrc', 'subtomo/1_001973.mrc', 'subtomo/1_001974.mrc', 'subtomo/1_001975.mrc', 'subtomo/1_001976.mrc', 'subtomo/1_001977.mrc', 'subtomo/1_001978.mrc', 'subtomo/1_001979.mrc', 'subtomo/1_001980.mrc', 'subtomo/1_001981.mrc', 'subtomo/1_001982.mrc', 'subtomo/1_001983.mrc', 'subtomo/1_001984.mrc', 'subtomo/1_001985.mrc', 'subtomo/1_001986.mrc', 'subtomo/1_001987.mrc', 'subtomo/1_001988.mrc', 'subtomo/1_001989.mrc', 'subtomo/1_001990.mrc', 'subtomo/1_001991.mrc', 'subtomo/1_001992.mrc', 'subtomo/1_001993.mrc', 'subtomo/1_001994.mrc', 'subtomo/1_001995.mrc', 'subtomo/1_001964.mrc', 'subtomo/1_001997.mrc', 'subtomo/1_001998.mrc', 'subtomo/1_001999.mrc', 'subtomo/1_002000.mrc', 'subtomo/1_002001.mrc', 'subtomo/1_002002.mrc', 'subtomo/1_002003.mrc', 'subtomo/1_002004.mrc', 'subtomo/1_002005.mrc', 'subtomo/1_002006.mrc', 'subtomo/1_002007.mrc', 'subtomo/1_002008.mrc', 'subtomo/1_002009.mrc', 'subtomo/1_002010.mrc', 'subtomo/1_002011.mrc', 'subtomo/1_002012.mrc', 'subtomo/1_002013.mrc', 'subtomo/1_002014.mrc', 'subtomo/1_002015.mrc', 'subtomo/1_002016.mrc', 'subtomo/1_002017.mrc', 'subtomo/1_002018.mrc', 'subtomo/1_002019.mrc', 'subtomo/1_002020.mrc', 'subtomo/1_002021.mrc', 'subtomo/1_002022.mrc', 'subtomo/1_002023.mrc', 'subtomo/1_002024.mrc', 'subtomo/1_002025.mrc', 'subtomo/1_002026.mrc', 'subtomo/1_002027.mrc', 'subtomo/1_002028.mrc', 'subtomo/1_002029.mrc', 'subtomo/1_002030.mrc', 'subtomo/1_002031.mrc', 'subtomo/1_002032.mrc', 'subtomo/1_002033.mrc', 'subtomo/1_002034.mrc', 'subtomo/1_002035.mrc', 'subtomo/1_002036.mrc', 'subtomo/1_002037.mrc', 'subtomo/1_002038.mrc', 'subtomo/1_002039.mrc', 'subtomo/1_002040.mrc', 'subtomo/1_002041.mrc', 'subtomo/1_002042.mrc', 'subtomo/1_002043.mrc', 'subtomo/1_002044.mrc', 'subtomo/1_002045.mrc', 'subtomo/1_002046.mrc', 'subtomo/1_002047.mrc', 'subtomo/1_002048.mrc', 'subtomo/1_002049.mrc', 'subtomo/1_002050.mrc', 'subtomo/1_002051.mrc', 'subtomo/1_002052.mrc', 'subtomo/1_002053.mrc', 'subtomo/1_002054.mrc', 'subtomo/1_002055.mrc', 'subtomo/1_002056.mrc', 'subtomo/1_002057.mrc', 'subtomo/1_002058.mrc', 'subtomo/1_002059.mrc', 'subtomo/1_002060.mrc', 'subtomo/1_002061.mrc', 'subtomo/1_002062.mrc', 'subtomo/1_002063.mrc', 'subtomo/1_002064.mrc', 'subtomo/1_002065.mrc', 'subtomo/1_002066.mrc', 'subtomo/1_002067.mrc', 'subtomo/1_002068.mrc', 'subtomo/1_002069.mrc', 'subtomo/1_002070.mrc', 'subtomo/1_002071.mrc', 'subtomo/1_002072.mrc', 'subtomo/1_002073.mrc', 'subtomo/1_002074.mrc', 'subtomo/1_002075.mrc', 'subtomo/1_002076.mrc', 'subtomo/1_002077.mrc', 'subtomo/1_002078.mrc', 'subtomo/1_002079.mrc', 'subtomo/1_002080.mrc', 'subtomo/1_002081.mrc', 'subtomo/1_002082.mrc', 'subtomo/1_002083.mrc', 'subtomo/1_002084.mrc', 'subtomo/1_002085.mrc', 'subtomo/1_002086.mrc', 'subtomo/1_002087.mrc', 'subtomo/1_002088.mrc', 'subtomo/1_002089.mrc', 'subtomo/1_002090.mrc', 'subtomo/1_002091.mrc', 'subtomo/1_002092.mrc', 'subtomo/1_002093.mrc', 'subtomo/1_002094.mrc', 'subtomo/1_002095.mrc', 'subtomo/1_002064.mrc', 'subtomo/1_002097.mrc', 'subtomo/1_002098.mrc', 'subtomo/1_002099.mrc', 'subtomo/1_002100.mrc', 'subtomo/1_002101.mrc', 'subtomo/1_002102.mrc', 'subtomo/1_002103.mrc', 'subtomo/1_002104.mrc', 'subtomo/1_002105.mrc', 'subtomo/1_002106.mrc', 'subtomo/1_002107.mrc', 'subtomo/1_002108.mrc', 'subtomo/1_002109.mrc', 'subtomo/1_002110.mrc', 'subtomo/1_002111.mrc', 'subtomo/1_002112.mrc', 'subtomo/1_002113.mrc', 'subtomo/1_002114.mrc', 'subtomo/1_002115.mrc', 'subtomo/1_002116.mrc', 'subtomo/1_002117.mrc', 'subtomo/1_002118.mrc', 'subtomo/1_002119.mrc', 'subtomo/1_002120.mrc', 'subtomo/1_002121.mrc', 'subtomo/1_002122.mrc', 'subtomo/1_002123.mrc', 'subtomo/1_002124.mrc', 'subtomo/1_002125.mrc', 'subtomo/1_002126.mrc', 'subtomo/1_002127.mrc', 'subtomo/1_002128.mrc', 'subtomo/1_002129.mrc', 'subtomo/1_002130.mrc', 'subtomo/1_002131.mrc', 'subtomo/1_002132.mrc', 'subtomo/1_002133.mrc', 'subtomo/1_002134.mrc', 'subtomo/1_002135.mrc', 'subtomo/1_002136.mrc', 'subtomo/1_002137.mrc', 'subtomo/1_002138.mrc', 'subtomo/1_002139.mrc', 'subtomo/1_002140.mrc', 'subtomo/1_002141.mrc', 'subtomo/1_002142.mrc', 'subtomo/1_002143.mrc', 'subtomo/1_002144.mrc', 'subtomo/1_002145.mrc', 'subtomo/1_002146.mrc', 'subtomo/1_002147.mrc', 'subtomo/1_002148.mrc', 'subtomo/1_002149.mrc', 'subtomo/1_002150.mrc', 'subtomo/1_002151.mrc', 'subtomo/1_002152.mrc', 'subtomo/1_002153.mrc', 'subtomo/1_002154.mrc', 'subtomo/1_002155.mrc', 'subtomo/1_002156.mrc', 'subtomo/1_002157.mrc', 'subtomo/1_002158.mrc', 'subtomo/1_002159.mrc', 'subtomo/1_002160.mrc', 'subtomo/1_002161.mrc', 'subtomo/1_002162.mrc', 'subtomo/1_002163.mrc', 'subtomo/1_002164.mrc', 'subtomo/1_002165.mrc', 'subtomo/1_002166.mrc', 'subtomo/1_002167.mrc', 'subtomo/1_002168.mrc', 'subtomo/1_002169.mrc', 'subtomo/1_002170.mrc', 'subtomo/1_002171.mrc', 'subtomo/1_002172.mrc', 'subtomo/1_002173.mrc', 'subtomo/1_002174.mrc', 'subtomo/1_002175.mrc', 'subtomo/1_002176.mrc', 'subtomo/1_002177.mrc', 'subtomo/1_002178.mrc', 'subtomo/1_002179.mrc', 'subtomo/1_002180.mrc', 'subtomo/1_002181.mrc', 'subtomo/1_002182.mrc', 'subtomo/1_002183.mrc', 'subtomo/1_002184.mrc', 'subtomo/1_002185.mrc', 'subtomo/1_002186.mrc', 'subtomo/1_002187.mrc', 'subtomo/1_002188.mrc', 'subtomo/1_002189.mrc', 'subtomo/1_002190.mrc', 'subtomo/1_002191.mrc', 'subtomo/1_002192.mrc', 'subtomo/1_002193.mrc', 'subtomo/1_002194.mrc', 'subtomo/1_002195.mrc', 'subtomo/1_002164.mrc', 'subtomo/1_002197.mrc', 'subtomo/1_002198.mrc', 'subtomo/1_002199.mrc', 'subtomo/1_002200.mrc', 'subtomo/1_002201.mrc', 'subtomo/1_002202.mrc', 'subtomo/1_002203.mrc', 'subtomo/1_002204.mrc', 'subtomo/1_002205.mrc', 'subtomo/1_002206.mrc', 'subtomo/1_002207.mrc', 'subtomo/1_002208.mrc', 'subtomo/1_002209.mrc', 'subtomo/1_002210.mrc', 'subtomo/1_002211.mrc', 'subtomo/1_002212.mrc', 'subtomo/1_002213.mrc', 'subtomo/1_002214.mrc', 'subtomo/1_002215.mrc', 'subtomo/1_002216.mrc', 'subtomo/1_002217.mrc', 'subtomo/1_002218.mrc', 'subtomo/1_002219.mrc', 'subtomo/1_002220.mrc', 'subtomo/1_002221.mrc', 'subtomo/1_002222.mrc', 'subtomo/1_002223.mrc', 'subtomo/1_002224.mrc', 'subtomo/1_002225.mrc', 'subtomo/1_002226.mrc', 'subtomo/1_002227.mrc', 'subtomo/1_002228.mrc', 'subtomo/1_002229.mrc', 'subtomo/1_002230.mrc', 'subtomo/1_002231.mrc', 'subtomo/1_002232.mrc', 'subtomo/1_002233.mrc', 'subtomo/1_002234.mrc', 'subtomo/1_002235.mrc', 'subtomo/1_002236.mrc', 'subtomo/1_002237.mrc', 'subtomo/1_002238.mrc', 'subtomo/1_002239.mrc', 'subtomo/1_002240.mrc', 'subtomo/1_002241.mrc', 'subtomo/1_002242.mrc', 'subtomo/1_002243.mrc', 'subtomo/1_002244.mrc', 'subtomo/1_002245.mrc', 'subtomo/1_002246.mrc', 'subtomo/1_002247.mrc', 'subtomo/1_002248.mrc', 'subtomo/1_002249.mrc', 'subtomo/1_002250.mrc', 'subtomo/1_002251.mrc', 'subtomo/1_002252.mrc', 'subtomo/1_002253.mrc', 'subtomo/1_002254.mrc', 'subtomo/1_002255.mrc', 'subtomo/1_002256.mrc', 'subtomo/1_002257.mrc', 'subtomo/1_002258.mrc', 'subtomo/1_002259.mrc', 'subtomo/1_002260.mrc', 'subtomo/1_002261.mrc', 'subtomo/1_002262.mrc', 'subtomo/1_002263.mrc', 'subtomo/1_002264.mrc', 'subtomo/1_002265.mrc', 'subtomo/1_002266.mrc', 'subtomo/1_002267.mrc', 'subtomo/1_002268.mrc', 'subtomo/1_002269.mrc', 'subtomo/1_002270.mrc', 'subtomo/1_002271.mrc', 'subtomo/1_002272.mrc', 'subtomo/1_002273.mrc', 'subtomo/1_002274.mrc', 'subtomo/1_002275.mrc', 'subtomo/1_002276.mrc', 'subtomo/1_002277.mrc', 'subtomo/1_002278.mrc', 'subtomo/1_002279.mrc', 'subtomo/1_002280.mrc', 'subtomo/1_002281.mrc', 'subtomo/1_002282.mrc', 'subtomo/1_002283.mrc', 'subtomo/1_002284.mrc', 'subtomo/1_002285.mrc', 'subtomo/1_002286.mrc', 'subtomo/1_002287.mrc', 'subtomo/1_002288.mrc', 'subtomo/1_002289.mrc', 'subtomo/1_002290.mrc', 'subtomo/1_002291.mrc', 'subtomo/1_002292.mrc', 'subtomo/1_002293.mrc', 'subtomo/1_002294.mrc', 'subtomo/1_002295.mrc', 'subtomo/1_002264.mrc', 'subtomo/1_002297.mrc', 'subtomo/1_002298.mrc', 'subtomo/1_002299.mrc', 'subtomo/1_002300.mrc', 'subtomo/1_002301.mrc', 'subtomo/1_002302.mrc', 'subtomo/1_002303.mrc', 'subtomo/1_002304.mrc', 'subtomo/1_002305.mrc', 'subtomo/1_002306.mrc', 'subtomo/1_002307.mrc', 'subtomo/1_002308.mrc', 'subtomo/1_002309.mrc', 'subtomo/1_002310.mrc', 'subtomo/1_002311.mrc', 'subtomo/1_002312.mrc', 'subtomo/1_002313.mrc', 'subtomo/1_002314.mrc', 'subtomo/1_002315.mrc', 'subtomo/1_002316.mrc', 'subtomo/1_002317.mrc', 'subtomo/1_002318.mrc', 'subtomo/1_002319.mrc', 'subtomo/1_002320.mrc', 'subtomo/1_002321.mrc', 'subtomo/1_002322.mrc', 'subtomo/1_002323.mrc', 'subtomo/1_002324.mrc', 'subtomo/1_002325.mrc', 'subtomo/1_002326.mrc', 'subtomo/1_002327.mrc', 'subtomo/1_002328.mrc', 'subtomo/1_002329.mrc', 'subtomo/1_002330.mrc', 'subtomo/1_002331.mrc', 'subtomo/1_002332.mrc', 'subtomo/1_002333.mrc', 'subtomo/1_002334.mrc', 'subtomo/1_002335.mrc', 'subtomo/1_002336.mrc', 'subtomo/1_002337.mrc', 'subtomo/1_002338.mrc', 'subtomo/1_002339.mrc', 'subtomo/1_002340.mrc', 'subtomo/1_002341.mrc', 'subtomo/1_002342.mrc', 'subtomo/1_002343.mrc', 'subtomo/1_002344.mrc', 'subtomo/1_002345.mrc', 'subtomo/1_002346.mrc', 'subtomo/1_002347.mrc', 'subtomo/1_002348.mrc', 'subtomo/1_002349.mrc', 'subtomo/1_002350.mrc', 'subtomo/1_002351.mrc', 'subtomo/1_002352.mrc', 'subtomo/1_002353.mrc', 'subtomo/1_002354.mrc', 'subtomo/1_002355.mrc', 'subtomo/1_002356.mrc', 'subtomo/1_002357.mrc', 'subtomo/1_002358.mrc', 'subtomo/1_002359.mrc', 'subtomo/1_002360.mrc', 'subtomo/1_002361.mrc', 'subtomo/1_002362.mrc', 'subtomo/1_002363.mrc', 'subtomo/1_002364.mrc', 'subtomo/1_002365.mrc', 'subtomo/1_002366.mrc', 'subtomo/1_002367.mrc', 'subtomo/1_002368.mrc', 'subtomo/1_002369.mrc', 'subtomo/1_002370.mrc', 'subtomo/1_002371.mrc', 'subtomo/1_002372.mrc', 'subtomo/1_002373.mrc', 'subtomo/1_002374.mrc', 'subtomo/1_002375.mrc', 'subtomo/1_002376.mrc', 'subtomo/1_002377.mrc', 'subtomo/1_002378.mrc', 'subtomo/1_002379.mrc', 'subtomo/1_002380.mrc', 'subtomo/1_002381.mrc', 'subtomo/1_002382.mrc', 'subtomo/1_002383.mrc', 'subtomo/1_002384.mrc', 'subtomo/1_002385.mrc', 'subtomo/1_002386.mrc', 'subtomo/1_002387.mrc', 'subtomo/1_002388.mrc', 'subtomo/1_002389.mrc', 'subtomo/1_002390.mrc', 'subtomo/1_002391.mrc', 'subtomo/1_002392.mrc', 'subtomo/1_002393.mrc', 'subtomo/1_002394.mrc', 'subtomo/1_002395.mrc', 'subtomo/1_002364.mrc', 'subtomo/1_002397.mrc', 'subtomo/1_002398.mrc', 'subtomo/1_002399.mrc', 'subtomo/1_002400.mrc', 'subtomo/1_002401.mrc', 'subtomo/1_002402.mrc', 'subtomo/1_002403.mrc', 'subtomo/1_002404.mrc', 'subtomo/1_002405.mrc', 'subtomo/1_002406.mrc', 'subtomo/1_002407.mrc', 'subtomo/1_002408.mrc', 'subtomo/1_002409.mrc', 'subtomo/1_002410.mrc', 'subtomo/1_002411.mrc', 'subtomo/1_002412.mrc', 'subtomo/1_002413.mrc', 'subtomo/1_002414.mrc', 'subtomo/1_002415.mrc', 'subtomo/1_002416.mrc', 'subtomo/1_002417.mrc', 'subtomo/1_002418.mrc', 'subtomo/1_002419.mrc', 'subtomo/1_002420.mrc', 'subtomo/1_002421.mrc', 'subtomo/1_002422.mrc', 'subtomo/1_002423.mrc', 'subtomo/1_002424.mrc', 'subtomo/1_002425.mrc', 'subtomo/1_002426.mrc', 'subtomo/1_002427.mrc', 'subtomo/1_002428.mrc', 'subtomo/1_002429.mrc', 'subtomo/1_002430.mrc', 'subtomo/1_002431.mrc', 'subtomo/1_002432.mrc', 'subtomo/1_002433.mrc', 'subtomo/1_002434.mrc', 'subtomo/1_002435.mrc', 'subtomo/1_002436.mrc', 'subtomo/1_002437.mrc', 'subtomo/1_002438.mrc', 'subtomo/1_002439.mrc', 'subtomo/1_002440.mrc', 'subtomo/1_002441.mrc', 'subtomo/1_002442.mrc', 'subtomo/1_002443.mrc', 'subtomo/1_002444.mrc', 'subtomo/1_002445.mrc', 'subtomo/1_002446.mrc', 'subtomo/1_002447.mrc', 'subtomo/1_002448.mrc', 'subtomo/1_002449.mrc', 'subtomo/1_002450.mrc', 'subtomo/1_002451.mrc', 'subtomo/1_002452.mrc', 'subtomo/1_002453.mrc', 'subtomo/1_002454.mrc', 'subtomo/1_002455.mrc', 'subtomo/1_002456.mrc', 'subtomo/1_002457.mrc', 'subtomo/1_002458.mrc', 'subtomo/1_002459.mrc', 'subtomo/1_002460.mrc', 'subtomo/1_002461.mrc', 'subtomo/1_002462.mrc', 'subtomo/1_002463.mrc', 'subtomo/1_002464.mrc', 'subtomo/1_002465.mrc', 'subtomo/1_002466.mrc', 'subtomo/1_002467.mrc', 'subtomo/1_002468.mrc', 'subtomo/1_002469.mrc', 'subtomo/1_002470.mrc', 'subtomo/1_002471.mrc', 'subtomo/1_002472.mrc', 'subtomo/1_002473.mrc', 'subtomo/1_002474.mrc', 'subtomo/1_002475.mrc', 'subtomo/1_002476.mrc', 'subtomo/1_002477.mrc', 'subtomo/1_002478.mrc', 'subtomo/1_002479.mrc', 'subtomo/1_002480.mrc', 'subtomo/1_002481.mrc', 'subtomo/1_002482.mrc', 'subtomo/1_002483.mrc', 'subtomo/1_002484.mrc', 'subtomo/1_002485.mrc', 'subtomo/1_002486.mrc', 'subtomo/1_002487.mrc', 'subtomo/1_002488.mrc', 'subtomo/1_002489.mrc', 'subtomo/1_002490.mrc', 'subtomo/1_002491.mrc', 'subtomo/1_002492.mrc', 'subtomo/1_002493.mrc', 'subtomo/1_002494.mrc', 'subtomo/1_002495.mrc', 'subtomo/1_002464.mrc', 'subtomo/1_002497.mrc', 'subtomo/1_002498.mrc', 'subtomo/1_002499.mrc', 'subtomo/1_002500.mrc', 'subtomo/1_002501.mrc', 'subtomo/1_002502.mrc', 'subtomo/1_002503.mrc', 'subtomo/1_002504.mrc', 'subtomo/1_002505.mrc', 'subtomo/1_002506.mrc', 'subtomo/1_002507.mrc', 'subtomo/1_002508.mrc', 'subtomo/1_002509.mrc', 'subtomo/1_002510.mrc', 'subtomo/1_002511.mrc', 'subtomo/1_002512.mrc', 'subtomo/1_002513.mrc', 'subtomo/1_002514.mrc', 'subtomo/1_002515.mrc', 'subtomo/1_002516.mrc', 'subtomo/1_002517.mrc', 'subtomo/1_002518.mrc', 'subtomo/1_002519.mrc', 'subtomo/1_002520.mrc', 'subtomo/1_002521.mrc', 'subtomo/1_002522.mrc', 'subtomo/1_002523.mrc', 'subtomo/1_002524.mrc', 'subtomo/1_002525.mrc', 'subtomo/1_002526.mrc', 'subtomo/1_002527.mrc', 'subtomo/1_002528.mrc', 'subtomo/1_002529.mrc', 'subtomo/1_002530.mrc', 'subtomo/1_002531.mrc', 'subtomo/1_002532.mrc', 'subtomo/1_002533.mrc', 'subtomo/1_002534.mrc', 'subtomo/1_002535.mrc', 'subtomo/1_002536.mrc', 'subtomo/1_002537.mrc', 'subtomo/1_002538.mrc', 'subtomo/1_002539.mrc', 'subtomo/1_002540.mrc', 'subtomo/1_002541.mrc', 'subtomo/1_002542.mrc', 'subtomo/1_002543.mrc', 'subtomo/1_002544.mrc', 'subtomo/1_002545.mrc', 'subtomo/1_002546.mrc', 'subtomo/1_002547.mrc', 'subtomo/1_002548.mrc', 'subtomo/1_002549.mrc', 'subtomo/1_002550.mrc', 'subtomo/1_002551.mrc', 'subtomo/1_002552.mrc', 'subtomo/1_002553.mrc', 'subtomo/1_002554.mrc', 'subtomo/1_002555.mrc', 'subtomo/1_002556.mrc', 'subtomo/1_002557.mrc', 'subtomo/1_002558.mrc', 'subtomo/1_002559.mrc', 'subtomo/1_002560.mrc', 'subtomo/1_002561.mrc', 'subtomo/1_002562.mrc', 'subtomo/1_002563.mrc', 'subtomo/1_002564.mrc', 'subtomo/1_002565.mrc', 'subtomo/1_002566.mrc', 'subtomo/1_002567.mrc', 'subtomo/1_002568.mrc', 'subtomo/1_002569.mrc', 'subtomo/1_002570.mrc', 'subtomo/1_002571.mrc', 'subtomo/1_002572.mrc', 'subtomo/1_002573.mrc', 'subtomo/1_002574.mrc', 'subtomo/1_002575.mrc', 'subtomo/1_002576.mrc', 'subtomo/1_002577.mrc', 'subtomo/1_002578.mrc', 'subtomo/1_002579.mrc', 'subtomo/1_002580.mrc', 'subtomo/1_002581.mrc', 'subtomo/1_002582.mrc', 'subtomo/1_002583.mrc', 'subtomo/1_002584.mrc', 'subtomo/1_002585.mrc', 'subtomo/1_002586.mrc', 'subtomo/1_002587.mrc', 'subtomo/1_002588.mrc', 'subtomo/1_002589.mrc', 'subtomo/1_002590.mrc', 'subtomo/1_002591.mrc', 'subtomo/1_002592.mrc', 'subtomo/1_002593.mrc', 'subtomo/1_002594.mrc', 'subtomo/1_002595.mrc', 'subtomo/1_002564.mrc', 'subtomo/1_002597.mrc', 'subtomo/1_002598.mrc', 'subtomo/1_002599.mrc', 'subtomo/1_002600.mrc', 'subtomo/1_002601.mrc', 'subtomo/1_002602.mrc', 'subtomo/1_002603.mrc', 'subtomo/1_002604.mrc', 'subtomo/1_002605.mrc', 'subtomo/1_002606.mrc', 'subtomo/1_002607.mrc', 'subtomo/1_002608.mrc', 'subtomo/1_002609.mrc', 'subtomo/1_002610.mrc', 'subtomo/1_002611.mrc', 'subtomo/1_002612.mrc', 'subtomo/1_002613.mrc', 'subtomo/1_002614.mrc', 'subtomo/1_002615.mrc', 'subtomo/1_002616.mrc', 'subtomo/1_002617.mrc', 'subtomo/1_002618.mrc', 'subtomo/1_002619.mrc', 'subtomo/1_002620.mrc', 'subtomo/1_002621.mrc', 'subtomo/1_002622.mrc', 'subtomo/1_002623.mrc', 'subtomo/1_002624.mrc', 'subtomo/1_002625.mrc', 'subtomo/1_002626.mrc', 'subtomo/1_002627.mrc', 'subtomo/1_002628.mrc', 'subtomo/1_002629.mrc', 'subtomo/1_002630.mrc', 'subtomo/1_002631.mrc', 'subtomo/1_002632.mrc', 'subtomo/1_002633.mrc', 'subtomo/1_002634.mrc', 'subtomo/1_002635.mrc', 'subtomo/1_002636.mrc', 'subtomo/1_002637.mrc', 'subtomo/1_002638.mrc', 'subtomo/1_002639.mrc', 'subtomo/1_002640.mrc', 'subtomo/1_002641.mrc', 'subtomo/1_002642.mrc', 'subtomo/1_002643.mrc', 'subtomo/1_002644.mrc', 'subtomo/1_002645.mrc', 'subtomo/1_002646.mrc', 'subtomo/1_002647.mrc', 'subtomo/1_002648.mrc', 'subtomo/1_002649.mrc', 'subtomo/1_002650.mrc', 'subtomo/1_002651.mrc', 'subtomo/1_002652.mrc', 'subtomo/1_002653.mrc', 'subtomo/1_002654.mrc', 'subtomo/1_002655.mrc', 'subtomo/1_002656.mrc', 'subtomo/1_002657.mrc', 'subtomo/1_002658.mrc', 'subtomo/1_002659.mrc', 'subtomo/1_002660.mrc', 'subtomo/1_002661.mrc', 'subtomo/1_002662.mrc', 'subtomo/1_002663.mrc', 'subtomo/1_002664.mrc', 'subtomo/1_002665.mrc', 'subtomo/1_002666.mrc', 'subtomo/1_002667.mrc', 'subtomo/1_002668.mrc', 'subtomo/1_002669.mrc', 'subtomo/1_002670.mrc', 'subtomo/1_002671.mrc', 'subtomo/1_002672.mrc', 'subtomo/1_002673.mrc', 'subtomo/1_002674.mrc', 'subtomo/1_002675.mrc', 'subtomo/1_002676.mrc', 'subtomo/1_002677.mrc', 'subtomo/1_002678.mrc', 'subtomo/1_002679.mrc', 'subtomo/1_002680.mrc', 'subtomo/1_002681.mrc', 'subtomo/1_002682.mrc', 'subtomo/1_002683.mrc', 'subtomo/1_002684.mrc', 'subtomo/1_002685.mrc', 'subtomo/1_002686.mrc', 'subtomo/1_002687.mrc', 'subtomo/1_002688.mrc', 'subtomo/1_002689.mrc', 'subtomo/1_002690.mrc', 'subtomo/1_002691.mrc', 'subtomo/1_002692.mrc', 'subtomo/1_002693.mrc', 'subtomo/1_002694.mrc', 'subtomo/1_002695.mrc', 'subtomo/1_002664.mrc', 'subtomo/1_002697.mrc', 'subtomo/1_002698.mrc', 'subtomo/1_002699.mrc', 'subtomo/1_002700.mrc', 'subtomo/1_002701.mrc', 'subtomo/1_002702.mrc', 'subtomo/1_002703.mrc', 'subtomo/1_002704.mrc', 'subtomo/1_002705.mrc', 'subtomo/1_002706.mrc', 'subtomo/1_002707.mrc', 'subtomo/1_002708.mrc', 'subtomo/1_002709.mrc', 'subtomo/1_002710.mrc', 'subtomo/1_002711.mrc', 'subtomo/1_002712.mrc', 'subtomo/1_002713.mrc', 'subtomo/1_002714.mrc', 'subtomo/1_002715.mrc', 'subtomo/1_002716.mrc', 'subtomo/1_002717.mrc', 'subtomo/1_002718.mrc', 'subtomo/1_002719.mrc', 'subtomo/1_002720.mrc', 'subtomo/1_002721.mrc', 'subtomo/1_002722.mrc', 'subtomo/1_002723.mrc', 'subtomo/1_002724.mrc', 'subtomo/1_002725.mrc', 'subtomo/1_002726.mrc', 'subtomo/1_002727.mrc', 'subtomo/1_002728.mrc', 'subtomo/1_002729.mrc', 'subtomo/1_002730.mrc', 'subtomo/1_002731.mrc', 'subtomo/1_002732.mrc', 'subtomo/1_002733.mrc', 'subtomo/1_002734.mrc', 'subtomo/1_002735.mrc', 'subtomo/1_002736.mrc', 'subtomo/1_002737.mrc', 'subtomo/1_002738.mrc', 'subtomo/1_002739.mrc', 'subtomo/1_002740.mrc', 'subtomo/1_002741.mrc', 'subtomo/1_002742.mrc', 'subtomo/1_002743.mrc', 'subtomo/1_002744.mrc', 'subtomo/1_002745.mrc', 'subtomo/1_002746.mrc', 'subtomo/1_002747.mrc', 'subtomo/1_002748.mrc', 'subtomo/1_002749.mrc', 'subtomo/1_002750.mrc', 'subtomo/1_002751.mrc', 'subtomo/1_002752.mrc', 'subtomo/1_002753.mrc', 'subtomo/1_002754.mrc', 'subtomo/1_002755.mrc', 'subtomo/1_002756.mrc', 'subtomo/1_002757.mrc', 'subtomo/1_002758.mrc', 'subtomo/1_002759.mrc', 'subtomo/1_002760.mrc', 'subtomo/1_002761.mrc', 'subtomo/1_002762.mrc', 'subtomo/1_002763.mrc', 'subtomo/1_002764.mrc', 'subtomo/1_002765.mrc', 'subtomo/1_002766.mrc', 'subtomo/1_002767.mrc', 'subtomo/1_002768.mrc', 'subtomo/1_002769.mrc', 'subtomo/1_002770.mrc', 'subtomo/1_002771.mrc', 'subtomo/1_002772.mrc', 'subtomo/1_002773.mrc', 'subtomo/1_002774.mrc', 'subtomo/1_002775.mrc', 'subtomo/1_002776.mrc', 'subtomo/1_002777.mrc', 'subtomo/1_002778.mrc', 'subtomo/1_002779.mrc', 'subtomo/1_002780.mrc', 'subtomo/1_002781.mrc', 'subtomo/1_002782.mrc', 'subtomo/1_002783.mrc', 'subtomo/1_002784.mrc', 'subtomo/1_002785.mrc', 'subtomo/1_002786.mrc', 'subtomo/1_002787.mrc', 'subtomo/1_002788.mrc', 'subtomo/1_002789.mrc', 'subtomo/1_002790.mrc', 'subtomo/1_002791.mrc', 'subtomo/1_002792.mrc', 'subtomo/1_002793.mrc', 'subtomo/1_002794.mrc', 'subtomo/1_002795.mrc', 'subtomo/1_002764.mrc', 'subtomo/1_002797.mrc', 'subtomo/1_002798.mrc', 'subtomo/1_002799.mrc', 'subtomo/1_002800.mrc', 'subtomo/1_002801.mrc', 'subtomo/1_002802.mrc', 'subtomo/1_002803.mrc', 'subtomo/1_002804.mrc', 'subtomo/1_002805.mrc', 'subtomo/1_002806.mrc', 'subtomo/1_002807.mrc', 'subtomo/1_002808.mrc', 'subtomo/1_002809.mrc', 'subtomo/1_002810.mrc', 'subtomo/1_002811.mrc', 'subtomo/1_002812.mrc', 'subtomo/1_002813.mrc', 'subtomo/1_002814.mrc', 'subtomo/1_002815.mrc', 'subtomo/1_002816.mrc', 'subtomo/1_002817.mrc', 'subtomo/1_002818.mrc', 'subtomo/1_002819.mrc', 'subtomo/1_002820.mrc', 'subtomo/1_002821.mrc', 'subtomo/1_002822.mrc', 'subtomo/1_002823.mrc', 'subtomo/1_002824.mrc', 'subtomo/1_002825.mrc', 'subtomo/1_002826.mrc', 'subtomo/1_002827.mrc', 'subtomo/1_002828.mrc', 'subtomo/1_002829.mrc', 'subtomo/1_002830.mrc', 'subtomo/1_002831.mrc', 'subtomo/1_002832.mrc', 'subtomo/1_002833.mrc', 'subtomo/1_002834.mrc', 'subtomo/1_002835.mrc', 'subtomo/1_002836.mrc', 'subtomo/1_002837.mrc', 'subtomo/1_002838.mrc', 'subtomo/1_002839.mrc', 'subtomo/1_002840.mrc', 'subtomo/1_002841.mrc', 'subtomo/1_002842.mrc', 'subtomo/1_002843.mrc', 'subtomo/1_002844.mrc', 'subtomo/1_002845.mrc', 'subtomo/1_002846.mrc', 'subtomo/1_002847.mrc', 'subtomo/1_002848.mrc', 'subtomo/1_002849.mrc', 'subtomo/1_002850.mrc', 'subtomo/1_002851.mrc', 'subtomo/1_002852.mrc', 'subtomo/1_002853.mrc', 'subtomo/1_002854.mrc', 'subtomo/1_002855.mrc', 'subtomo/1_002856.mrc', 'subtomo/1_002857.mrc', 'subtomo/1_002858.mrc', 'subtomo/1_002859.mrc', 'subtomo/1_002860.mrc', 'subtomo/1_002861.mrc', 'subtomo/1_002862.mrc', 'subtomo/1_002863.mrc', 'subtomo/1_002864.mrc', 'subtomo/1_002865.mrc', 'subtomo/1_002866.mrc', 'subtomo/1_002867.mrc', 'subtomo/1_002868.mrc', 'subtomo/1_002869.mrc', 'subtomo/1_002870.mrc', 'subtomo/1_002871.mrc', 'subtomo/1_002872.mrc', 'subtomo/1_002873.mrc', 'subtomo/1_002874.mrc', 'subtomo/1_002875.mrc', 'subtomo/1_002876.mrc', 'subtomo/1_002877.mrc', 'subtomo/1_002878.mrc', 'subtomo/1_002879.mrc', 'subtomo/1_002880.mrc', 'subtomo/1_002881.mrc', 'subtomo/1_002882.mrc', 'subtomo/1_002883.mrc', 'subtomo/1_002884.mrc', 'subtomo/1_002885.mrc', 'subtomo/1_002886.mrc', 'subtomo/1_002887.mrc', 'subtomo/1_002888.mrc', 'subtomo/1_002889.mrc', 'subtomo/1_002890.mrc', 'subtomo/1_002891.mrc', 'subtomo/1_002892.mrc', 'subtomo/1_002893.mrc', 'subtomo/1_002894.mrc', 'subtomo/1_002895.mrc', 'subtomo/1_002864.mrc', 'subtomo/1_002897.mrc', 'subtomo/1_002898.mrc', 'subtomo/1_002899.mrc', 'subtomo/1_002900.mrc', 'subtomo/1_002901.mrc', 'subtomo/1_002902.mrc', 'subtomo/1_002903.mrc', 'subtomo/1_002904.mrc', 'subtomo/1_002905.mrc', 'subtomo/1_002906.mrc', 'subtomo/1_002907.mrc', 'subtomo/1_002908.mrc', 'subtomo/1_002909.mrc', 'subtomo/1_002910.mrc', 'subtomo/1_002911.mrc', 'subtomo/1_002912.mrc', 'subtomo/1_002913.mrc', 'subtomo/1_002914.mrc', 'subtomo/1_002915.mrc', 'subtomo/1_002916.mrc', 'subtomo/1_002917.mrc', 'subtomo/1_002918.mrc', 'subtomo/1_002919.mrc', 'subtomo/1_002920.mrc', 'subtomo/1_002921.mrc', 'subtomo/1_002922.mrc', 'subtomo/1_002923.mrc', 'subtomo/1_002924.mrc', 'subtomo/1_002925.mrc', 'subtomo/1_002926.mrc', 'subtomo/1_002927.mrc', 'subtomo/1_002928.mrc', 'subtomo/1_002929.mrc', 'subtomo/1_002930.mrc', 'subtomo/1_002931.mrc', 'subtomo/1_002932.mrc', 'subtomo/1_002933.mrc', 'subtomo/1_002934.mrc', 'subtomo/1_002935.mrc', 'subtomo/1_002936.mrc', 'subtomo/1_002937.mrc', 'subtomo/1_002938.mrc', 'subtomo/1_002939.mrc', 'subtomo/1_002940.mrc', 'subtomo/1_002941.mrc', 'subtomo/1_002942.mrc', 'subtomo/1_002943.mrc', 'subtomo/1_002944.mrc', 'subtomo/1_002945.mrc', 'subtomo/1_002946.mrc', 'subtomo/1_002947.mrc', 'subtomo/1_002948.mrc', 'subtomo/1_002949.mrc', 'subtomo/1_002950.mrc', 'subtomo/1_002951.mrc', 'subtomo/1_002952.mrc', 'subtomo/1_002953.mrc', 'subtomo/1_002954.mrc', 'subtomo/1_002955.mrc', 'subtomo/1_002956.mrc', 'subtomo/1_002957.mrc', 'subtomo/1_002958.mrc', 'subtomo/1_002959.mrc', 'subtomo/1_002640.mrc', 'subtomo/1_002641.mrc', 'subtomo/1_002642.mrc', 'subtomo/1_002643.mrc', 'subtomo/1_002644.mrc', 'subtomo/1_002645.mrc', 'subtomo/1_002646.mrc', 'subtomo/1_002647.mrc', 'subtomo/1_002648.mrc', 'subtomo/1_002649.mrc', 'subtomo/1_002970.mrc', 'subtomo/1_002971.mrc', 'subtomo/1_002972.mrc', 'subtomo/1_002973.mrc', 'subtomo/1_002974.mrc', 'subtomo/1_002975.mrc', 'subtomo/1_002976.mrc', 'subtomo/1_002977.mrc', 'subtomo/1_002978.mrc', 'subtomo/1_002979.mrc', 'subtomo/1_002980.mrc', 'subtomo/1_002981.mrc', 'subtomo/1_002982.mrc', 'subtomo/1_002983.mrc', 'subtomo/1_002984.mrc', 'subtomo/1_002985.mrc', 'subtomo/1_002986.mrc', 'subtomo/1_002987.mrc', 'subtomo/1_002988.mrc', 'subtomo/1_002989.mrc', 'subtomo/1_002990.mrc', 'subtomo/1_002991.mrc', 'subtomo/1_002992.mrc', 'subtomo/1_002993.mrc', 'subtomo/1_002994.mrc', 'subtomo/1_002995.mrc', 'subtomo/1_002964.mrc', 'subtomo/1_002997.mrc', 'subtomo/1_002998.mrc', 'subtomo/1_002999.mrc']\n"
     ]
    }
   ],
   "source": [
    "print(len(settings.mrc_list))\n",
    "print(settings.mrc_list)"
   ]
  },
  {
   "cell_type": "code",
   "execution_count": 12,
   "metadata": {},
   "outputs": [],
   "source": [
    "from IsoNet.preprocessing.cubes import create_cube_seeds,crop_cubes,DataCubes\n",
    "from IsoNet.preprocessing.img_processing import normalize\n",
    "from IsoNet.preprocessing.simulate import apply_wedge1 as  apply_wedge\n",
    "from multiprocessing import Pool\n",
    "import numpy as np\n",
    "from functools import partial"
   ]
  },
  {
   "cell_type": "code",
   "execution_count": 13,
   "metadata": {},
   "outputs": [
    {
     "name": "stderr",
     "output_type": "stream",
     "text": [
      "2022-10-05 13:57:52.290735: I tensorflow/stream_executor/platform/default/dso_loader.cc:48] Successfully opened dynamic library libcuda.so.1\n",
      "2022-10-05 13:57:53.847909: I tensorflow/core/common_runtime/gpu/gpu_device.cc:1716] Found device 0 with properties: \n",
      "pciBusID: 0000:02:00.0 name: GeForce GTX 1080 computeCapability: 6.1\n",
      "coreClock: 1.7335GHz coreCount: 20 deviceMemorySize: 7.93GiB deviceMemoryBandwidth: 298.32GiB/s\n",
      "2022-10-05 13:57:53.848592: I tensorflow/core/common_runtime/gpu/gpu_device.cc:1716] Found device 1 with properties: \n",
      "pciBusID: 0000:03:00.0 name: GeForce GTX 1080 computeCapability: 6.1\n",
      "coreClock: 1.7335GHz coreCount: 20 deviceMemorySize: 7.93GiB deviceMemoryBandwidth: 298.32GiB/s\n",
      "2022-10-05 13:57:53.849242: I tensorflow/core/common_runtime/gpu/gpu_device.cc:1716] Found device 2 with properties: \n",
      "pciBusID: 0000:81:00.0 name: GeForce GTX 1080 computeCapability: 6.1\n",
      "coreClock: 1.7335GHz coreCount: 20 deviceMemorySize: 7.93GiB deviceMemoryBandwidth: 298.32GiB/s\n",
      "2022-10-05 13:57:53.852349: I tensorflow/core/common_runtime/gpu/gpu_device.cc:1716] Found device 3 with properties: \n",
      "pciBusID: 0000:82:00.0 name: GeForce GTX 1080 computeCapability: 6.1\n",
      "coreClock: 1.7335GHz coreCount: 20 deviceMemorySize: 7.93GiB deviceMemoryBandwidth: 298.32GiB/s\n",
      "2022-10-05 13:57:53.852382: I tensorflow/stream_executor/platform/default/dso_loader.cc:48] Successfully opened dynamic library libcudart.so.10.1\n",
      "2022-10-05 13:57:53.854520: I tensorflow/stream_executor/platform/default/dso_loader.cc:48] Successfully opened dynamic library libcublas.so.10\n",
      "2022-10-05 13:57:53.856452: I tensorflow/stream_executor/platform/default/dso_loader.cc:48] Successfully opened dynamic library libcufft.so.10\n",
      "2022-10-05 13:57:53.856734: I tensorflow/stream_executor/platform/default/dso_loader.cc:48] Successfully opened dynamic library libcurand.so.10\n",
      "2022-10-05 13:57:53.858870: I tensorflow/stream_executor/platform/default/dso_loader.cc:48] Successfully opened dynamic library libcusolver.so.10\n",
      "2022-10-05 13:57:53.859908: I tensorflow/stream_executor/platform/default/dso_loader.cc:48] Successfully opened dynamic library libcusparse.so.10\n",
      "2022-10-05 13:57:53.864285: I tensorflow/stream_executor/platform/default/dso_loader.cc:48] Successfully opened dynamic library libcudnn.so.7\n",
      "2022-10-05 13:57:53.871769: I tensorflow/core/common_runtime/gpu/gpu_device.cc:1858] Adding visible gpu devices: 0, 1, 2, 3\n",
      "2022-10-05 13:57:53.873647: I tensorflow/core/platform/cpu_feature_guard.cc:142] This TensorFlow binary is optimized with oneAPI Deep Neural Network Library (oneDNN)to use the following CPU instructions in performance-critical operations:  AVX2 FMA\n",
      "To enable them in other operations, rebuild TensorFlow with the appropriate compiler flags.\n",
      "2022-10-05 13:57:53.911056: I tensorflow/core/platform/profile_utils/cpu_utils.cc:104] CPU Frequency: 2400240000 Hz\n",
      "2022-10-05 13:57:53.915029: I tensorflow/compiler/xla/service/service.cc:168] XLA service 0x5610c3eb6c70 initialized for platform Host (this does not guarantee that XLA will be used). Devices:\n",
      "2022-10-05 13:57:53.915069: I tensorflow/compiler/xla/service/service.cc:176]   StreamExecutor device (0): Host, Default Version\n",
      "2022-10-05 13:57:54.312891: I tensorflow/compiler/xla/service/service.cc:168] XLA service 0x5610c36b4b10 initialized for platform CUDA (this does not guarantee that XLA will be used). Devices:\n",
      "2022-10-05 13:57:54.312943: I tensorflow/compiler/xla/service/service.cc:176]   StreamExecutor device (0): GeForce GTX 1080, Compute Capability 6.1\n",
      "2022-10-05 13:57:54.312957: I tensorflow/compiler/xla/service/service.cc:176]   StreamExecutor device (1): GeForce GTX 1080, Compute Capability 6.1\n",
      "2022-10-05 13:57:54.312969: I tensorflow/compiler/xla/service/service.cc:176]   StreamExecutor device (2): GeForce GTX 1080, Compute Capability 6.1\n",
      "2022-10-05 13:57:54.312979: I tensorflow/compiler/xla/service/service.cc:176]   StreamExecutor device (3): GeForce GTX 1080, Compute Capability 6.1\n",
      "2022-10-05 13:57:54.319483: I tensorflow/core/common_runtime/gpu/gpu_device.cc:1716] Found device 0 with properties: \n",
      "pciBusID: 0000:02:00.0 name: GeForce GTX 1080 computeCapability: 6.1\n",
      "coreClock: 1.7335GHz coreCount: 20 deviceMemorySize: 7.93GiB deviceMemoryBandwidth: 298.32GiB/s\n",
      "2022-10-05 13:57:54.321196: I tensorflow/core/common_runtime/gpu/gpu_device.cc:1716] Found device 1 with properties: \n",
      "pciBusID: 0000:03:00.0 name: GeForce GTX 1080 computeCapability: 6.1\n",
      "coreClock: 1.7335GHz coreCount: 20 deviceMemorySize: 7.93GiB deviceMemoryBandwidth: 298.32GiB/s\n",
      "2022-10-05 13:57:54.322814: I tensorflow/core/common_runtime/gpu/gpu_device.cc:1716] Found device 2 with properties: \n",
      "pciBusID: 0000:81:00.0 name: GeForce GTX 1080 computeCapability: 6.1\n",
      "coreClock: 1.7335GHz coreCount: 20 deviceMemorySize: 7.93GiB deviceMemoryBandwidth: 298.32GiB/s\n",
      "2022-10-05 13:57:54.323910: I tensorflow/core/common_runtime/gpu/gpu_device.cc:1716] Found device 3 with properties: \n",
      "pciBusID: 0000:82:00.0 name: GeForce GTX 1080 computeCapability: 6.1\n",
      "coreClock: 1.7335GHz coreCount: 20 deviceMemorySize: 7.93GiB deviceMemoryBandwidth: 298.32GiB/s\n",
      "2022-10-05 13:57:54.323962: I tensorflow/stream_executor/platform/default/dso_loader.cc:48] Successfully opened dynamic library libcudart.so.10.1\n",
      "2022-10-05 13:57:54.323990: I tensorflow/stream_executor/platform/default/dso_loader.cc:48] Successfully opened dynamic library libcublas.so.10\n",
      "2022-10-05 13:57:54.324011: I tensorflow/stream_executor/platform/default/dso_loader.cc:48] Successfully opened dynamic library libcufft.so.10\n",
      "2022-10-05 13:57:54.324030: I tensorflow/stream_executor/platform/default/dso_loader.cc:48] Successfully opened dynamic library libcurand.so.10\n",
      "2022-10-05 13:57:54.324049: I tensorflow/stream_executor/platform/default/dso_loader.cc:48] Successfully opened dynamic library libcusolver.so.10\n",
      "2022-10-05 13:57:54.324068: I tensorflow/stream_executor/platform/default/dso_loader.cc:48] Successfully opened dynamic library libcusparse.so.10\n",
      "2022-10-05 13:57:54.324096: I tensorflow/stream_executor/platform/default/dso_loader.cc:48] Successfully opened dynamic library libcudnn.so.7\n",
      "2022-10-05 13:57:54.330446: I tensorflow/core/common_runtime/gpu/gpu_device.cc:1858] Adding visible gpu devices: 0, 1, 2, 3\n",
      "2022-10-05 13:57:54.330492: I tensorflow/stream_executor/platform/default/dso_loader.cc:48] Successfully opened dynamic library libcudart.so.10.1\n",
      "2022-10-05 13:57:56.122572: I tensorflow/core/common_runtime/gpu/gpu_device.cc:1257] Device interconnect StreamExecutor with strength 1 edge matrix:\n",
      "2022-10-05 13:57:56.122618: I tensorflow/core/common_runtime/gpu/gpu_device.cc:1263]      0 1 2 3 \n",
      "2022-10-05 13:57:56.122626: I tensorflow/core/common_runtime/gpu/gpu_device.cc:1276] 0:   N Y N N \n",
      "2022-10-05 13:57:56.122630: I tensorflow/core/common_runtime/gpu/gpu_device.cc:1276] 1:   Y N N N \n",
      "2022-10-05 13:57:56.122634: I tensorflow/core/common_runtime/gpu/gpu_device.cc:1276] 2:   N N N Y \n",
      "2022-10-05 13:57:56.122639: I tensorflow/core/common_runtime/gpu/gpu_device.cc:1276] 3:   N N Y N \n",
      "2022-10-05 13:57:56.126886: I tensorflow/core/common_runtime/gpu/gpu_device.cc:1402] Created TensorFlow device (/job:localhost/replica:0/task:0/device:GPU:0 with 7420 MB memory) -> physical GPU (device: 0, name: GeForce GTX 1080, pci bus id: 0000:02:00.0, compute capability: 6.1)\n",
      "2022-10-05 13:57:56.128151: I tensorflow/core/common_runtime/gpu/gpu_device.cc:1402] Created TensorFlow device (/job:localhost/replica:0/task:0/device:GPU:1 with 7420 MB memory) -> physical GPU (device: 1, name: GeForce GTX 1080, pci bus id: 0000:03:00.0, compute capability: 6.1)\n",
      "2022-10-05 13:57:56.129330: I tensorflow/core/common_runtime/gpu/gpu_device.cc:1402] Created TensorFlow device (/job:localhost/replica:0/task:0/device:GPU:2 with 7420 MB memory) -> physical GPU (device: 2, name: GeForce GTX 1080, pci bus id: 0000:81:00.0, compute capability: 6.1)\n",
      "2022-10-05 13:57:56.130455: I tensorflow/core/common_runtime/gpu/gpu_device.cc:1402] Created TensorFlow device (/job:localhost/replica:0/task:0/device:GPU:3 with 7420 MB memory) -> physical GPU (device: 3, name: GeForce GTX 1080, pci bus id: 0000:82:00.0, compute capability: 6.1)\n"
     ]
    }
   ],
   "source": [
    "num_iter=1\n",
    "logging.info(\"Start Iteration{}!\".format(num_iter))\n",
    "# pretrained_model case\n",
    "if num_iter ==1:\n",
    "    args = prepare_first_model(args)\n",
    "else:\n",
    "    args.init_model = '{}/model_iter{:0>2d}.h5'.format(args.result_dir,args.iter_count-1)"
   ]
  },
  {
   "cell_type": "code",
   "execution_count": 14,
   "metadata": {},
   "outputs": [],
   "source": [
    "noise_level_series = get_noise_level(args.noise_level,args.noise_start_iter,args.iterations)\n",
    "args.noise_level_current =  noise_level_series[num_iter]"
   ]
  },
  {
   "cell_type": "code",
   "execution_count": 15,
   "metadata": {},
   "outputs": [],
   "source": [
    "\n",
    "args.noise_level = (0.05,0.10,0.15,0.20)\n",
    "\n",
    "args.noise_start_iter = (11,16,21,26)\n",
    "\n",
    "args.noise_mode = 'noFilter'\n",
    "\n",
    "args.noise_dir = args.result_dir +'/training_noise'\n",
    "\n",
    "args.log_level = \"info\"\n"
   ]
  },
  {
   "cell_type": "code",
   "execution_count": 16,
   "metadata": {},
   "outputs": [],
   "source": [
    "all_path_x = os.listdir(settings.data_dir+'/train_x')\n",
    "num_test = int(len(all_path_x) * 0.1) \n",
    "num_test = num_test - num_test%settings.ngpus + settings.ngpus\n",
    "all_path_y = ['y_'+i.split('_')[1] for i in all_path_x ]\n",
    "ind = np.random.permutation(len(all_path_x))[0:num_test]\n",
    "for i in ind:\n",
    "    os.rename('{}/train_x/{}'.format(settings.data_dir, all_path_x[i]), '{}/test_x/{}'.format(settings.data_dir, all_path_x[i]) )\n",
    "    os.rename('{}/train_y/{}'.format(settings.data_dir, all_path_y[i]), '{}/test_y/{}'.format(settings.data_dir, all_path_y[i]) )\n",
    "    #os.rename('data/train_y/'+all_path_y[i], 'data/test_y/'+all_path_y[i])"
   ]
  },
  {
   "cell_type": "code",
   "execution_count": 16,
   "metadata": {},
   "outputs": [
    {
     "name": "stdout",
     "output_type": "stream",
     "text": [
      "4\n"
     ]
    }
   ],
   "source": [
    "from IsoNet.training.train import prepare_first_model, train_data,train3D_continue\n",
    "print(settings.batch_size)"
   ]
  },
  {
   "cell_type": "code",
   "execution_count": 20,
   "metadata": {},
   "outputs": [
    {
     "ename": "NameError",
     "evalue": "name 'tf' is not defined",
     "output_type": "error",
     "traceback": [
      "\u001b[1;31m---------------------------------------------------------------------------\u001b[0m",
      "\u001b[1;31mNameError\u001b[0m                                 Traceback (most recent call last)",
      "\u001b[1;32m~\\AppData\\Local\\Temp\\ipykernel_7012\\2516462275.py\u001b[0m in \u001b[0;36m<module>\u001b[1;34m\u001b[0m\n\u001b[0;32m     12\u001b[0m \u001b[1;33m\u001b[0m\u001b[0m\n\u001b[0;32m     13\u001b[0m \u001b[1;31m#将LearningRateScheduler类实例化\u001b[0m\u001b[1;33m\u001b[0m\u001b[1;33m\u001b[0m\u001b[0m\n\u001b[1;32m---> 14\u001b[1;33m \u001b[0mlr_scheduler\u001b[0m \u001b[1;33m=\u001b[0m \u001b[0mtf\u001b[0m\u001b[1;33m.\u001b[0m\u001b[0mkeras\u001b[0m\u001b[1;33m.\u001b[0m\u001b[0mcallbacks\u001b[0m\u001b[1;33m.\u001b[0m\u001b[0mLearningRateScheduler\u001b[0m\u001b[1;33m(\u001b[0m\u001b[0mschedule\u001b[0m\u001b[1;33m)\u001b[0m\u001b[1;33m\u001b[0m\u001b[0m\n\u001b[0m\u001b[0;32m     15\u001b[0m \u001b[1;33m\u001b[0m\u001b[0m\n\u001b[0;32m     16\u001b[0m \u001b[1;31m#将所有callback类放入，这里只有这一个类\u001b[0m\u001b[1;33m\u001b[0m\u001b[1;33m\u001b[0m\u001b[0m\n",
      "\u001b[1;31mNameError\u001b[0m: name 'tf' is not defined"
     ]
    }
   ],
   "source": [
    "def schedule(epoch):\n",
    "    if epoch < 50:\n",
    "        return .001\n",
    "    if epoch < 300:\n",
    "        return .0001\n",
    "    if epoch < 600:\n",
    "        return .00001\n",
    "    if epoch < 900:\n",
    "        return .000001\n",
    "    else:\n",
    "        return .0000001      \n",
    "\n",
    "#将LearningRateScheduler类实例化   \n",
    "lr_scheduler = tf.keras.callbacks.LearningRateScheduler(schedule)\n",
    "\n",
    "#将所有callback类放入，这里只有这一个类\n",
    "callbacks_list = [lr_scheduler, ]\n"
   ]
  },
  {
   "cell_type": "code",
   "execution_count": 17,
   "metadata": {},
   "outputs": [
    {
     "name": "stdout",
     "output_type": "stream",
     "text": [
      "Epoch 1/2\n"
     ]
    },
    {
     "name": "stderr",
     "output_type": "stream",
     "text": [
      "2022-10-05 13:58:57.177778: I tensorflow/stream_executor/platform/default/dso_loader.cc:48] Successfully opened dynamic library libcudnn.so.7\n",
      "2022-10-05 13:58:58.174994: I tensorflow/stream_executor/platform/default/dso_loader.cc:48] Successfully opened dynamic library libcublas.so.10\n"
     ]
    },
    {
     "name": "stdout",
     "output_type": "stream",
     "text": [
      "1500/1500 [==============================] - 995s 663ms/step - loss: 0.1532 - mse: 0.6064 - mae: 0.1532 - val_loss: 0.1454 - val_mse: 0.5555 - val_mae: 0.1454\n",
      "Epoch 2/2\n",
      "1500/1500 [==============================] - 998s 665ms/step - loss: 0.1467 - mse: 0.5621 - mae: 0.1467 - val_loss: 0.1445 - val_mse: 0.5490 - val_mae: 0.1445\n"
     ]
    }
   ],
   "source": [
    "history = train3D_continue('{}/model_iter{:0>2d}.h5'.format(settings.result_dir,0),\n",
    "                                        settings.init_model,\n",
    "                                        data_dir = settings.data_dir,\n",
    "                                        result_folder = settings.result_dir,\n",
    "                                        epochs=2,\n",
    "                                        steps_per_epoch=1500,\n",
    "                                        batch_size=settings.batch_size,\n",
    "                                        lr = 0.0001,\n",
    "                                        n_gpus=4)"
   ]
  },
  {
   "cell_type": "code",
   "execution_count": null,
   "metadata": {},
   "outputs": [],
   "source": [
    "from IsoNet.bin.predict import predict\n",
    "import numpy as np\n",
    "import os, sys\n",
    "from IsoNet.preprocessing.simulate import apply_wedge\n",
    "from IsoNet.util.norm import normalize\n",
    "from IsoNet.util.toTile import reform3D\n",
    "import mrcfile\n",
    "from IsoNet.util.image import *\n",
    "from IsoNet.util.metadata import MetaData,Label,Item\n",
    "from IsoNet.util.dict2attr import idx2list\n",
    "from tqdm import tqdm"
   ]
  },
  {
   "cell_type": "code",
   "execution_count": null,
   "metadata": {},
   "outputs": [],
   "source": [
    "args.gpuID=0,1\n",
    "args.gpuID = str(args.gpuID)\n",
    "args.ngpus = len(list(set(args.gpuID.split(','))))\n",
    "args.ngpus = 2\n",
    "if args.batch_size is None:\n",
    "    args.batch_size = max(4, 2 * args.ngpus)\n",
    "#print('batch_size',args.batch_size)\n",
    "os.environ[\"CUDA_DEVICE_ORDER\"]=\"PCI_BUS_ID\"\n",
    "os.environ[\"CUDA_VISIBLE_DEVICES\"]=args.gpuID\n",
    "#check gpu settings\n",
    "from IsoNet.bin.refine import check_gpu\n",
    "# check_gpu(args)\n",
    "args.__dict__\n",
    "import subprocess\n",
    "sp = subprocess.Popen(['nvidia-smi', '-q'], stdout=subprocess.PIPE, stderr=subprocess.PIPE)\n",
    "out_str = sp.communicate()\n",
    "out_str = out_str[0].decode('utf-8')\n",
    "if 'CUDA Version' not in out_str:\n",
    "    raise RuntimeError('No GPU detected, Please check your CUDA version and installation')\n",
    "\n",
    "#import tensorflow related modules after setting environment\n",
    "import tensorflow as tf\n",
    "\n",
    "gpu_info =  tf.config.list_physical_devices('GPU')\n",
    "gpu_info\n",
    "logging.debug(gpu_info)   \n",
    "if len(gpu_info)!=args.ngpus:\n",
    "    if len(gpu_info) == 0:\n",
    "        logging.error('No GPU detected, Please check your CUDA version and installation')\n",
    "        raise RuntimeError('No GPU detected, Please check your CUDA version and installation')\n",
    "    else:\n",
    "        logging.error('Available number of GPUs don\\'t match requested GPUs \\n\\n Detected GPUs: {} \\n\\n Requested GPUs: {}'.format(gpu_info,args.gpuID))\n",
    "        raise RuntimeError('Re-enter correct gpuID')"
   ]
  },
  {
   "cell_type": "code",
   "execution_count": null,
   "metadata": {},
   "outputs": [],
   "source": [
    "import tensorflow as tf\n",
    " \n",
    "gpu_device_name = tf.test.gpu_device_name()\n",
    "print(gpu_device_name)"
   ]
  },
  {
   "cell_type": "code",
   "execution_count": null,
   "metadata": {},
   "outputs": [],
   "source": [
    "save_args_json(args,args.result_dir+'/refine_iter00.json')"
   ]
  },
  {
   "cell_type": "code",
   "execution_count": null,
   "metadata": {},
   "outputs": [],
   "source": []
  }
 ],
 "metadata": {
  "kernelspec": {
   "display_name": "Python 3",
   "language": "python",
   "name": "python3"
  },
  "language_info": {
   "codemirror_mode": {
    "name": "ipython",
    "version": 3
   },
   "file_extension": ".py",
   "mimetype": "text/x-python",
   "name": "python",
   "nbconvert_exporter": "python",
   "pygments_lexer": "ipython3",
   "version": "3.8.5"
  },
  "toc": {
   "base_numbering": 1,
   "nav_menu": {},
   "number_sections": true,
   "sideBar": true,
   "skip_h1_title": false,
   "title_cell": "Table of Contents",
   "title_sidebar": "Contents",
   "toc_cell": false,
   "toc_position": {},
   "toc_section_display": true,
   "toc_window_display": false
  }
 },
 "nbformat": 4,
 "nbformat_minor": 4
}
